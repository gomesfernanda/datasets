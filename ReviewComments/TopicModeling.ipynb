{
 "cells": [
  {
   "cell_type": "code",
   "execution_count": 1,
   "metadata": {},
   "outputs": [
    {
     "name": "stdout",
     "output_type": "stream",
     "text": [
      "Requirement already satisfied: en_core_web_sm==2.1.0 from https://github.com/explosion/spacy-models/releases/download/en_core_web_sm-2.1.0/en_core_web_sm-2.1.0.tar.gz#egg=en_core_web_sm==2.1.0 in /Users/fernandagomes/Library/Python/3.6/lib/python/site-packages (2.1.0)\n",
      "\u001b[38;5;2m✔ Download and installation successful\u001b[0m\n",
      "You can now load the model via spacy.load('en_core_web_sm')\n",
      "\u001b[38;5;2m✔ Linking successful\u001b[0m\n",
      "/Users/fernandagomes/Library/Python/3.6/lib/python/site-packages/en_core_web_sm\n",
      "-->\n",
      "/usr/local/Cellar/python3/3.6.4_2/Frameworks/Python.framework/Versions/3.6/lib/python3.6/site-packages/spacy/data/en\n",
      "You can now load the model via spacy.load('en')\n"
     ]
    }
   ],
   "source": [
    "!python3 -m spacy download en"
   ]
  },
  {
   "cell_type": "code",
   "execution_count": 2,
   "metadata": {},
   "outputs": [
    {
     "name": "stdout",
     "output_type": "stream",
     "text": [
      "Requirement already up-to-date: numpy in /usr/local/lib/python3.6/site-packages (1.16.2)\r\n"
     ]
    }
   ],
   "source": [
    "!pip3 install --upgrade numpy"
   ]
  },
  {
   "cell_type": "code",
   "execution_count": 3,
   "metadata": {},
   "outputs": [
    {
     "name": "stderr",
     "output_type": "stream",
     "text": [
      "/usr/local/Cellar/python3/3.6.4_2/Frameworks/Python.framework/Versions/3.6/lib/python3.6/site-packages/smart_open/ssh.py:34: UserWarning: paramiko missing, opening SSH/SCP/SFTP paths will be disabled.  `pip install paramiko` to suppress\n",
      "  warnings.warn('paramiko missing, opening SSH/SCP/SFTP paths will be disabled.  `pip install paramiko` to suppress')\n",
      "Using TensorFlow backend.\n"
     ]
    }
   ],
   "source": [
    "import codecs\n",
    "from collections import defaultdict\n",
    "import csv\n",
    "import lzma\n",
    "import operator\n",
    "import re\n",
    "from statistics import mean\n",
    "import sys\n",
    "\n",
    "import gensim\n",
    "import numpy as np\n",
    "import spacy\n",
    "from spacy import displacy\n",
    "from gensim.corpora import Dictionary\n",
    "from gensim.models import LdaModel\n",
    "import matplotlib.pyplot as plt\n",
    "import sklearn\n",
    "import keras"
   ]
  },
  {
   "cell_type": "code",
   "execution_count": 4,
   "metadata": {},
   "outputs": [],
   "source": [
    "import os\n",
    "thisdir = os.getcwd()\n",
    "PATH_TO_CSV = str(thisdir) + \"/review_comments.csv.xz\""
   ]
  },
  {
   "cell_type": "markdown",
   "metadata": {},
   "source": [
    "## Understanding our dataset"
   ]
  },
  {
   "cell_type": "code",
   "execution_count": 5,
   "metadata": {},
   "outputs": [],
   "source": [
    "def getusers(filename):\n",
    "    with lzma.open(filename) as archf:\n",
    "        reader = csv.DictReader(codecs.getreader(\"utf-8\")(archf))\n",
    "        for record in reader:\n",
    "            yield record[\"AUTHOR\"]"
   ]
  },
  {
   "cell_type": "code",
   "execution_count": 6,
   "metadata": {},
   "outputs": [
    {
     "name": "stderr",
     "output_type": "stream",
     "text": [
      "25300000\r"
     ]
    }
   ],
   "source": [
    "n_comments = 0\n",
    "users = defaultdict(int)\n",
    "for user in getusers(PATH_TO_CSV):\n",
    "    n_comments += 1\n",
    "    if n_comments % 100000 == 0:\n",
    "        sys.stderr.write(\"%d\\r\" % n_comments)\n",
    "    users[user] += 1"
   ]
  },
  {
   "cell_type": "code",
   "execution_count": 7,
   "metadata": {},
   "outputs": [
    {
     "name": "stdout",
     "output_type": "stream",
     "text": [
      "Number of PR review comments: 25323640\n",
      "Number of different reviewers: 540054\n",
      "Average number of GitHub review comments per user from 2015 to 2019: 46\n"
     ]
    }
   ],
   "source": [
    "print(\"Number of PR review comments: %d\" % (n_comments))\n",
    "print(\"Number of different reviewers: %d\" % (len(users)))\n",
    "print(\"Average number of GitHub review comments per user from 2015 to 2019: %d\" % (mean(list(users.values()))))"
   ]
  },
  {
   "cell_type": "markdown",
   "metadata": {},
   "source": [
    "## Most active reviewers"
   ]
  },
  {
   "cell_type": "code",
   "execution_count": 8,
   "metadata": {},
   "outputs": [
    {
     "data": {
      "text/plain": [
       "[('houndci-bot', 797827),\n",
       " ('houndci', 264998),\n",
       " ('codacy-bot', 237814),\n",
       " ('stickler-ci', 36707),\n",
       " ('sonarcloud[bot]', 20378),\n",
       " ('jreback', 19694),\n",
       " ('seanlip', 19540),\n",
       " ('codeschool-kiddo', 18946),\n",
       " ('stephentoub', 18744),\n",
       " ('vkurennov', 18141)]"
      ]
     },
     "execution_count": 8,
     "metadata": {},
     "output_type": "execute_result"
    }
   ],
   "source": [
    "sorted_users = sorted(users.items(), key=operator.itemgetter(1), reverse=True)\n",
    "sorted_users[:10]"
   ]
  },
  {
   "cell_type": "markdown",
   "metadata": {},
   "source": [
    "## Collecting comments in English"
   ]
  },
  {
   "cell_type": "code",
   "execution_count": 10,
   "metadata": {},
   "outputs": [],
   "source": [
    "import spacy\n",
    "from spacy_langdetect import LanguageDetector\n",
    "\n",
    "nlp = spacy.load(\"en\")\n",
    "nlp.add_pipe(LanguageDetector(), name=\"language_detector\", last=True)\n",
    "\n",
    "def lang_det(text):\n",
    "    doc = nlp(text)\n",
    "    lang_dict = doc._.language\n",
    "    return lang_dict\n",
    "\n",
    "def get_lang_score(text):\n",
    "    lang_dict = lang_det(text)\n",
    "    language = lang_dict['language']\n",
    "    score = lang_dict['score']\n",
    "    return language, score"
   ]
  },
  {
   "cell_type": "code",
   "execution_count": 11,
   "metadata": {},
   "outputs": [
    {
     "name": "stderr",
     "output_type": "stream",
     "text": [
      "1299999 / 25323630\r"
     ]
    },
    {
     "ename": "IndexError",
     "evalue": "list index out of range",
     "output_type": "error",
     "traceback": [
      "\u001b[0;31m---------------------------------------------------------------------------\u001b[0m",
      "\u001b[0;31mIndexError\u001b[0m                                Traceback (most recent call last)",
      "\u001b[0;32m<ipython-input-11-cd43978ad4d5>\u001b[0m in \u001b[0;36m<module>\u001b[0;34m()\u001b[0m\n\u001b[1;32m     13\u001b[0m     \u001b[0mi\u001b[0m \u001b[0;34m=\u001b[0m \u001b[0;36m0\u001b[0m\u001b[0;34m\u001b[0m\u001b[0m\n\u001b[1;32m     14\u001b[0m     \u001b[0;32mfor\u001b[0m \u001b[0mr\u001b[0m\u001b[0;34m,\u001b[0m \u001b[0mrecord\u001b[0m \u001b[0;32min\u001b[0m \u001b[0menumerate\u001b[0m\u001b[0;34m(\u001b[0m\u001b[0mcsv_reader\u001b[0m\u001b[0;34m)\u001b[0m\u001b[0;34m:\u001b[0m\u001b[0;34m\u001b[0m\u001b[0m\n\u001b[0;32m---> 15\u001b[0;31m         \u001b[0;32mif\u001b[0m \u001b[0mr\u001b[0m \u001b[0;34m==\u001b[0m \u001b[0msamples_index\u001b[0m\u001b[0;34m[\u001b[0m\u001b[0mi\u001b[0m\u001b[0;34m]\u001b[0m\u001b[0;34m:\u001b[0m\u001b[0;34m\u001b[0m\u001b[0m\n\u001b[0m\u001b[1;32m     16\u001b[0m             \u001b[0msys\u001b[0m\u001b[0;34m.\u001b[0m\u001b[0mstderr\u001b[0m\u001b[0;34m.\u001b[0m\u001b[0mwrite\u001b[0m\u001b[0;34m(\u001b[0m\u001b[0;34m\"%d / %d\\r\"\u001b[0m \u001b[0;34m%\u001b[0m \u001b[0;34m(\u001b[0m\u001b[0mlen\u001b[0m\u001b[0;34m(\u001b[0m\u001b[0mmultilang_sample\u001b[0m\u001b[0;34m)\u001b[0m\u001b[0;34m,\u001b[0m \u001b[0mr\u001b[0m\u001b[0;34m)\u001b[0m\u001b[0;34m)\u001b[0m\u001b[0;34m\u001b[0m\u001b[0m\n\u001b[1;32m     17\u001b[0m             \u001b[0mmultilang_sample\u001b[0m\u001b[0;34m.\u001b[0m\u001b[0mappend\u001b[0m\u001b[0;34m(\u001b[0m\u001b[0mrecord\u001b[0m\u001b[0;34m[\u001b[0m\u001b[0;34m'BODY'\u001b[0m\u001b[0;34m]\u001b[0m\u001b[0;34m)\u001b[0m\u001b[0;34m\u001b[0m\u001b[0m\n",
      "\u001b[0;31mIndexError\u001b[0m: list index out of range"
     ]
    }
   ],
   "source": [
    "import random\n",
    "size_of_sample = 1300000  # say the math behind it\n",
    "file_length = n_comments  # dataset CSV size\n",
    "\n",
    "samples_index = sorted(random.sample(range(file_length), size_of_sample))  # random index that fits the CSV\n",
    "\n",
    "multilang_sample = []  # sample before filtering for EN\n",
    "\n",
    "# get the actual multi-lang sample\n",
    "\n",
    "with lzma.open(PATH_TO_CSV) as archf:\n",
    "    csv_reader = csv.DictReader(codecs.getreader(\"utf-8\")(archf))\n",
    "    i = 0\n",
    "    for r, record in enumerate(csv_reader):\n",
    "        try:\n",
    "            if r == samples_index[i]:\n",
    "            sys.stderr.write(\"%d / %d\\r\" % (len(multilang_sample), r))\n",
    "            multilang_sample.append(record['BODY'])\n",
    "            i += 1\n",
    "        except:\n",
    "            next"
   ]
  },
  {
   "cell_type": "code",
   "execution_count": 12,
   "metadata": {},
   "outputs": [
    {
     "name": "stderr",
     "output_type": "stream",
     "text": [
      "1048358 / 1299999\r"
     ]
    }
   ],
   "source": [
    "eng_sample = []\n",
    "\n",
    "for i, item in enumerate(multilang_sample):\n",
    "    try:\n",
    "        lang, score = get_lang_score(item)\n",
    "    except:\n",
    "        lang = \"\"\n",
    "        score = 0.0\n",
    "    sys.stderr.write(\"%d / %d\\r\" % (len(eng_sample), i))\n",
    "    if lang == \"en\" and score >= 0.6:\n",
    "        eng_sample.append(item)"
   ]
  },
  {
   "cell_type": "code",
   "execution_count": 16,
   "metadata": {},
   "outputs": [
    {
     "data": {
      "text/plain": [
       "1055449"
      ]
     },
     "execution_count": 16,
     "metadata": {},
     "output_type": "execute_result"
    }
   ],
   "source": [
    "len(eng_sample)"
   ]
  },
  {
   "cell_type": "markdown",
   "metadata": {},
   "source": [
    "Our comments are formatted using Markdown, meaning that we have to clean it.\n",
    "\n",
    "We'll start small:\n",
    "\n",
    "1. First, transforming markdown to html\n",
    "2. Turn code snippets into one symbol (`$`)\n",
    "3. Discard formatting tags and collect only the remaining text"
   ]
  },
  {
   "cell_type": "code",
   "execution_count": 17,
   "metadata": {},
   "outputs": [],
   "source": [
    "from bs4 import BeautifulSoup\n",
    "from markdown import markdown\n",
    "\n",
    "def markdown_to_text(markdown_string):\n",
    "    \"\"\" Converts a markdown string to plaintext \"\"\"\n",
    "\n",
    "    # md -> html -> text since BeautifulSoup can extract text cleanly\n",
    "    html = markdown(markdown_string)\n",
    "\n",
    "    # remove code snippets\n",
    "    html = re.sub(r'<pre>(.*?)</pre>', '$', html)\n",
    "    html = re.sub(r'<code>(.*?)</code>', '$', html)\n",
    "\n",
    "    # extract text\n",
    "    soup = BeautifulSoup(html, \"html.parser\")\n",
    "    text = ''.join(soup.findAll(text=True))\n",
    "\n",
    "    return text\n",
    "\n",
    "plain_text = [markdown_to_text(item) for item in eng_sample]"
   ]
  },
  {
   "cell_type": "code",
   "execution_count": 18,
   "metadata": {},
   "outputs": [
    {
     "data": {
      "text/plain": [
       "['why the change of server? if one fails maybe allow configuring the server?',\n",
       " 'you should do this instead, avoid embarrassment.',\n",
       " 'Interesting, I see that too. $ shows the right thing.',\n",
       " 'some comments on when this is supposed to return true/false would be helpful.',\n",
       " 'Chris also \"kinda like[s]\" $',\n",
       " 'Should a MongoIterable be allowed to return null from batchCursor?  I would think the contract should be that either result or t is non-null.',\n",
       " \"Make sure to test the string option, because I think it'll never get hit.\",\n",
       " 'A review comment message',\n",
       " 'Great Job. this Technically works but on lines 21 and 22 you are \"hard coding\" the values of n and d. These values are evaluated correctly, but since you are hard coding the values of n and d, you are overwriting any arguments being passed into the function. Therefore console.log(fractionString(3,4)); will output 1 3/4 not just 3/4.',\n",
       " '$ just in case :)',\n",
       " \"I'm confused. Can n be negative?\",\n",
       " 'Whitespace creep in a few places around here.',\n",
       " 'There is a slight typo here. I will point it out to you in class',\n",
       " 'why us this part necessary? \\n(need to check: there was a problem for 1 or 2 numpy versions with return_xxx in np.unique. statsmodels.compat ?)',\n",
       " 'Is this line over 100 characters?',\n",
       " 'Not only for mirrors, but also can be used in private NPM services.',\n",
       " 'Change to $ once jamieconnolly/puppet-dotfiles#1 merged.',\n",
       " \"I did not realized first this is for a third-party command line tool. It's OK then.\",\n",
       " \"' should be better\",\n",
       " '@carlaschroder Feel free to simply use that output ;)',\n",
       " \"Oh sorry, that's a bashism - you always have to sort before running uniq, it's not smart enough otherwise. Ruby is. I don't really care about the order. :-)\",\n",
       " \"Looking at the entire file again, it should be fine. However, this brings to mind a question. Does the Jekyll site have a policy on how links should be handled? IMHO, inline links are gross, and if you're doing that, it isn't that much of a stretch to just use HTML for everything, thus negating any advantage you get from using Markdown.\\nSeems easier to read if things are separated (e.g, reference links). Thoughts?\",\n",
       " \"nice, I didn't know about this feature.\",\n",
       " 'There is no place to unsubscribe this worker: it will exist until the JVM quits.',\n",
       " 'Order using properly, System* goes first',\n",
       " \"Please remove the changes from this file, it's not specific to documentation changes\",\n",
       " \"Yes you're correct. It takes whatever the second parameter being passed on is and saves it into the variable you put.\",\n",
       " \"It might work but I don't think that this piece of code should be located here. \\nShouldn't this fix be part of oat\\\\taoQtiItem\\\\model\\\\qti\\\\ManifestParserFactory::getResourcesFromManifest() called in  oat\\\\taoQtiItem\\\\model\\\\qti\\\\ImportService::importQTIPACKFile() instead ?\",\n",
       " 'I can not see any benefit but just to make you happy i have added that.',\n",
       " 'I can not see any benefit but just to make you happy i have added that.',\n",
       " \"I don't like that name, but unfortunately Go does not allow function overloading :disappointed:. But if we'll stick with it please change $ -> $ to be consistent with everywhere else.\",\n",
       " 'You are referring to if/else not the try/except/else, right?',\n",
       " \"I don't see a way how this method can be shortened decently.\",\n",
       " \"I don't understand this call compared to this one:\\nhttps://github.com/PX4/Firmware/pull/1715/files#diff-fc165566877bb4af47d4be96eb8b7690R1769\\nShould the device ID maybe be set in the _device_id constructor?\",\n",
       " 'How ever rearrange can affect readability? I see no difference in readability at all.',\n",
       " 'My intention was to keep the css and js in their respective sections, but I think you\\'re right that it is better to pack them together.  My other thought was that since other pages down the line will want to include leaflet, it would be better to keep the deps in the default layout and only load if a given page has a \"hasmap\" attribute.  I updated the PR accordingly.',\n",
       " 'Remove empty line',\n",
       " 'no, corrected and squashed',\n",
       " '@danrot @chirimoya @wachterjohannes this would be the JSON response used for the admin search.',\n",
       " \"Sometimes I'm too strict with the 3-parts rule :trollface: \",\n",
       " 'This link does not lead to anything relevant. Also, do not use a shortened URL.',\n",
       " 'I would even remove it entirely',\n",
       " 'that is actually what is recommended by python best practices :\\nhttps://docs.python.org/2/library/stdtypes.html#truth-value-testing',\n",
       " 'also should add some expressions here, $ as I think this is used for the XML driver test.',\n",
       " 'Naming things: One of the hardest things in CS. :smile:',\n",
       " 'hmm. why use integers? it makes debugging and inspecting the database a real pain. I know we do this everywhere else, but just saying. /cc @chirimoya @danrot @wachterjohannes ',\n",
       " \"Or if the system property is $ then don't add the line... but whatever you do don't say $\",\n",
       " 'Title should be Party only',\n",
       " 'Is this method likely to be useful elsewhere? ',\n",
       " 'Could you elaborate more about the benefit of using homogeneous coordinates? It should be at least documented that what \"weight\" stands for here. If a cluster have 100 points, do you assign its center with weight 100? If so, how to compute the distance between this center and an input point?']"
      ]
     },
     "execution_count": 18,
     "metadata": {},
     "output_type": "execute_result"
    }
   ],
   "source": [
    "plain_text[:50]"
   ]
  },
  {
   "cell_type": "markdown",
   "metadata": {},
   "source": [
    "Now we will use `spaCy` to input the comments, and output a list of tokens in English language"
   ]
  },
  {
   "cell_type": "code",
   "execution_count": 19,
   "metadata": {},
   "outputs": [
    {
     "data": {
      "text/plain": [
       "[why the change of server? if one fails maybe allow configuring the server?,\n",
       " you should do this instead, avoid embarrassment.,\n",
       " interesting, i see that too. $ shows the right thing.,\n",
       " some comments on when this is supposed to return true/false would be helpful.,\n",
       " chris also \"kinda like[s]\" $,\n",
       " should a mongoiterable be allowed to return null from batchcursor?  i would think the contract should be that either result or t is non-null.,\n",
       " make sure to test the string option, because i think it'll never get hit.,\n",
       " a review comment message,\n",
       " great job. this technically works but on lines 21 and 22 you are \"hard coding\" the values of n and d. these values are evaluated correctly, but since you are hard coding the values of n and d, you are overwriting any arguments being passed into the function. therefore console.log(fractionstring(3,4)); will output 1 3/4 not just 3/4.,\n",
       " $ just in case :),\n",
       " i'm confused. can n be negative?,\n",
       " whitespace creep in a few places around here.,\n",
       " there is a slight typo here. i will point it out to you in class,\n",
       " why us this part necessary? \n",
       " (need to check: there was a problem for 1 or 2 numpy versions with return_xxx in np.unique. statsmodels.compat ?),\n",
       " is this line over 100 characters?,\n",
       " not only for mirrors, but also can be used in private npm services.,\n",
       " change to $ once jamieconnolly/puppet-dotfiles#1 merged.,\n",
       " i did not realized first this is for a third-party command line tool. it's ok then.,\n",
       " ' should be better,\n",
       " @carlaschroder feel free to simply use that output ;),\n",
       " oh sorry, that's a bashism - you always have to sort before running uniq, it's not smart enough otherwise. ruby is. i don't really care about the order. :-),\n",
       " looking at the entire file again, it should be fine. however, this brings to mind a question. does the jekyll site have a policy on how links should be handled? imho, inline links are gross, and if you're doing that, it isn't that much of a stretch to just use html for everything, thus negating any advantage you get from using markdown.\n",
       " seems easier to read if things are separated (e.g, reference links). thoughts?,\n",
       " nice, i didn't know about this feature.,\n",
       " there is no place to unsubscribe this worker: it will exist until the jvm quits.,\n",
       " order using properly, system* goes first,\n",
       " please remove the changes from this file, it's not specific to documentation changes,\n",
       " yes you're correct. it takes whatever the second parameter being passed on is and saves it into the variable you put.,\n",
       " it might work but i don't think that this piece of code should be located here. \n",
       " shouldn't this fix be part of oat\\taoqtiitem\\model\\qti\\manifestparserfactory::getresourcesfrommanifest() called in  oat\\taoqtiitem\\model\\qti\\importservice::importqtipackfile() instead ?,\n",
       " i can not see any benefit but just to make you happy i have added that.,\n",
       " i can not see any benefit but just to make you happy i have added that.,\n",
       " i don't like that name, but unfortunately go does not allow function overloading :disappointed:. but if we'll stick with it please change $ -> $ to be consistent with everywhere else.,\n",
       " you are referring to if/else not the try/except/else, right?,\n",
       " i don't see a way how this method can be shortened decently.,\n",
       " i don't understand this call compared to this one:\n",
       " https://github.com/px4/firmware/pull/1715/files#diff-fc165566877bb4af47d4be96eb8b7690r1769\n",
       " should the device id maybe be set in the _device_id constructor?,\n",
       " how ever rearrange can affect readability? i see no difference in readability at all.,\n",
       " my intention was to keep the css and js in their respective sections, but i think you're right that it is better to pack them together.  my other thought was that since other pages down the line will want to include leaflet, it would be better to keep the deps in the default layout and only load if a given page has a \"hasmap\" attribute.  i updated the pr accordingly.,\n",
       " remove empty line,\n",
       " no, corrected and squashed,\n",
       " @danrot @chirimoya @wachterjohannes this would be the json response used for the admin search.,\n",
       " sometimes i'm too strict with the 3-parts rule :trollface: ,\n",
       " this link does not lead to anything relevant. also, do not use a shortened url.,\n",
       " i would even remove it entirely,\n",
       " that is actually what is recommended by python best practices :\n",
       " https://docs.python.org/2/library/stdtypes.html#truth-value-testing,\n",
       " also should add some expressions here, $ as i think this is used for the xml driver test.,\n",
       " naming things: one of the hardest things in cs. :smile:,\n",
       " hmm. why use integers? it makes debugging and inspecting the database a real pain. i know we do this everywhere else, but just saying. /cc @chirimoya @danrot @wachterjohannes ,\n",
       " or if the system property is $ then don't add the line... but whatever you do don't say $,\n",
       " title should be party only,\n",
       " is this method likely to be useful elsewhere? ,\n",
       " could you elaborate more about the benefit of using homogeneous coordinates? it should be at least documented that what \"weight\" stands for here. if a cluster have 100 points, do you assign its center with weight 100? if so, how to compute the distance between this center and an input point?]"
      ]
     },
     "execution_count": 19,
     "metadata": {},
     "output_type": "execute_result"
    }
   ],
   "source": [
    "doc = [nlp(i.lower()) for i in plain_text]\n",
    "doc[:50]"
   ]
  },
  {
   "cell_type": "markdown",
   "metadata": {},
   "source": [
    "Further cleaning: we'll remove stopwords and create a list of the remaining words"
   ]
  },
  {
   "cell_type": "code",
   "execution_count": 20,
   "metadata": {},
   "outputs": [],
   "source": [
    "my_stop_words = []\n",
    "for stopword in my_stop_words:\n",
    "    lexeme = nlp.vocab[stopword]\n",
    "    lexeme.is_stop = True"
   ]
  },
  {
   "cell_type": "code",
   "execution_count": 21,
   "metadata": {},
   "outputs": [],
   "source": [
    "master_text = []\n",
    "for d in doc:\n",
    "    texts, article = [], []\n",
    "    for w in d:\n",
    "        # if it's not a stop word or punctuation mark, add it to our article!\n",
    "        if w.text != '\\n' and not w.is_stop and not w.is_punct and not w.like_num:\n",
    "            # we add the lematized version of the word\n",
    "            article.append(w.lemma_)\n",
    "        # if it's a new line, it means we're onto our next document\n",
    "        if w.text == '\\n':\n",
    "            texts.append(article)\n",
    "            article = []\n",
    "    master_text.append(article)"
   ]
  },
  {
   "cell_type": "markdown",
   "metadata": {},
   "source": [
    "Let's identify pairs of words that are mentioned together and create bigrams"
   ]
  },
  {
   "cell_type": "code",
   "execution_count": 22,
   "metadata": {},
   "outputs": [],
   "source": [
    "bigram = gensim.models.Phrases(master_text)"
   ]
  },
  {
   "cell_type": "code",
   "execution_count": 23,
   "metadata": {},
   "outputs": [],
   "source": [
    "master_text = [bigram[line] for line in master_text]"
   ]
  },
  {
   "cell_type": "code",
   "execution_count": 24,
   "metadata": {},
   "outputs": [],
   "source": [
    "dictionary = Dictionary(master_text)\n",
    "corpus = [dictionary.doc2bow(tex) for tex in master_text]"
   ]
  },
  {
   "cell_type": "code",
   "execution_count": 25,
   "metadata": {},
   "outputs": [],
   "source": [
    "ldamodel = LdaModel(corpus=corpus, num_topics=10, id2word=dictionary)"
   ]
  },
  {
   "cell_type": "code",
   "execution_count": 26,
   "metadata": {},
   "outputs": [
    {
     "data": {
      "text/plain": [
       "[(0,\n",
       "  '0.041*\"error\" + 0.024*\"default\" + 0.021*\"option\" + 0.020*\"issue\" + 0.019*\"agree\" + 0.019*\"commit\" + 0.017*\"log\" + 0.015*\"try\" + 0.013*\"think\" + 0.012*\"yeah\"'),\n",
       " (1,\n",
       "  '0.250*\"need\" + 0.093*\"fix\" + 0.074*\"update\" + 0.056*\"thank\" + 0.018*\"right\" + 0.015*\"sorry\" + 0.012*\"index\" + 0.011*\"forget\" + 0.011*\">\" + 0.010*\"👍\"'),\n",
       " (2,\n",
       "  '0.124*\"use\" + 0.055*\"method\" + 0.032*\"class\" + 0.031*\"instead\" + 0.029*\"function\" + 0.015*\"variable\" + 0.015*\"name\" + 0.013*\" \" + 0.012*\"maybe\" + 0.010*\"parameter\"'),\n",
       " (3,\n",
       "  '0.055*\"find\" + 0.033*\"=\" + 0.032*\"`\" + 0.023*\" _issue\" + 0.018*\"`_`\" + 0.018*\">\" + 0.018*\"import\" + 0.015*\"number\" + 0.014*\"\\n    \" + 0.014*\"would\"'),\n",
       " (4,\n",
       "  '0.431*\"$\" + 0.022*\"return\" + 0.019*\"check\" + 0.016*\"think\" + 0.016*\"value\" + 0.016*\"miss\" + 0.013*\"instead\" + 0.012*\"call\" + 0.012*\"like\" + 0.011*\"function\"'),\n",
       " (5,\n",
       "  '0.104*\"line\" + 0.104*\"add\" + 0.031*\"space\" + 0.023*\"new\" + 0.021*\"end\" + 0.021*\"comment\" + 0.020*\"delete\" + 0.020*\"message\" + 0.018*\"link\" + 0.013*\"block\"'),\n",
       " (6,\n",
       "  '0.099*\"change\" + 0.038*\"comment\" + 0.035*\"code\" + 0.024*\"good\" + 0.024*\"pr\" + 0.019*\"think\" + 0.019*\"ok\" + 0.019*\"look\" + 0.014*\"sure\" + 0.012*\"merge\"'),\n",
       " (7,\n",
       "  '0.077*\"file\" + 0.030*\"version\" + 0.020*\"define\" + 0.019*\"fine\" + 0.017*\"build\" + 0.017*\"rename\" + 0.016*\"component\" + 0.015*\"create\" + 0.014*\"require\" + 0.014*\"package\"'),\n",
       " (8,\n",
       "  '0.055*\"remove\" + 0.054*\"test\" + 0.034*\" \" + 0.030*\"think\" + 0.027*\"add\" + 0.020*\"work\" + 0.018*\"case\" + 0.016*\"yes\" + 0.014*\"probably\" + 0.013*\"run\"'),\n",
       " (9,\n",
       "  '0.017*\"type\" + 0.015*\"\\n\\n\" + 0.015*\"way\" + 0.015*\"think\" + 0.012*\"list\" + 0.012*\"user\" + 0.012*\"like\" + 0.012*\" \" + 0.012*\"write\" + 0.011*\"want\"')]"
      ]
     },
     "execution_count": 26,
     "metadata": {},
     "output_type": "execute_result"
    }
   ],
   "source": [
    "ldamodel.show_topics()"
   ]
  },
  {
   "cell_type": "code",
   "execution_count": 27,
   "metadata": {},
   "outputs": [],
   "source": [
    "# from gensim.models import CoherenceModel, LdaModel, LsiModel, HdpModel\n",
    "\n",
    "# hdpmodel = HdpModel(corpus=corpus, id2word=dictionary)"
   ]
  },
  {
   "cell_type": "code",
   "execution_count": 28,
   "metadata": {},
   "outputs": [],
   "source": [
    "# hdpmodel.show_topics()"
   ]
  },
  {
   "cell_type": "code",
   "execution_count": 30,
   "metadata": {},
   "outputs": [
    {
     "name": "stderr",
     "output_type": "stream",
     "text": [
      "/usr/local/Cellar/python3/3.6.4_2/Frameworks/Python.framework/Versions/3.6/lib/python3.6/site-packages/pyLDAvis/_prepare.py:257: FutureWarning: Sorting because non-concatenation axis is not aligned. A future version\n",
      "of pandas will change to not sort by default.\n",
      "\n",
      "To accept the future behavior, pass 'sort=False'.\n",
      "\n",
      "To retain the current behavior and silence the warning, pass 'sort=True'.\n",
      "\n",
      "  return pd.concat([default_term_info] + list(topic_dfs))\n"
     ]
    },
    {
     "data": {
      "text/html": [
       "\n",
       "<link rel=\"stylesheet\" type=\"text/css\" href=\"https://cdn.rawgit.com/bmabey/pyLDAvis/files/ldavis.v1.0.0.css\">\n",
       "\n",
       "\n",
       "<div id=\"ldavis_el56325127842582888034587735\"></div>\n",
       "<script type=\"text/javascript\">\n",
       "\n",
       "var ldavis_el56325127842582888034587735_data = {\"mdsDat\": {\"x\": [-0.20160387696183454, -0.1853954218658042, -0.12929765822050057, -0.09539609346537914, -0.07136063591569207, 0.01555580753441713, -0.039524519490558144, 0.2756510061877917, 0.13891557956276507, 0.2924558126347948], \"y\": [-0.04821808465634564, 0.09852365437602534, -0.22152131153811566, 0.16048595241255081, -0.17006951037676765, 0.08850876394399211, 0.0443644827842075, -0.2130860361257929, 0.22238017226476686, 0.03863191691547919], \"topics\": [1, 2, 3, 4, 5, 6, 7, 8, 9, 10], \"cluster\": [1, 1, 1, 1, 1, 1, 1, 1, 1, 1], \"Freq\": [15.79255199432373, 14.679767608642578, 13.071929931640625, 10.541485786437988, 10.304207801818848, 8.301057815551758, 7.51435661315918, 7.446120738983154, 6.8278656005859375, 5.520663261413574]}, \"tinfo\": {\"Category\": [\"Default\", \"Default\", \"Default\", \"Default\", \"Default\", \"Default\", \"Default\", \"Default\", \"Default\", \"Default\", \"Default\", \"Default\", \"Default\", \"Default\", \"Default\", \"Default\", \"Default\", \"Default\", \"Default\", \"Default\", \"Default\", \"Default\", \"Default\", \"Default\", \"Default\", \"Default\", \"Default\", \"Default\", \"Default\", \"Default\", \"Topic1\", \"Topic1\", \"Topic1\", \"Topic1\", \"Topic1\", \"Topic1\", \"Topic1\", \"Topic1\", \"Topic1\", \"Topic1\", \"Topic1\", \"Topic1\", \"Topic1\", \"Topic1\", \"Topic1\", \"Topic1\", \"Topic1\", \"Topic1\", \"Topic1\", \"Topic1\", \"Topic1\", \"Topic1\", \"Topic1\", \"Topic1\", \"Topic1\", \"Topic1\", \"Topic1\", \"Topic1\", \"Topic1\", \"Topic1\", \"Topic1\", \"Topic1\", \"Topic1\", \"Topic1\", \"Topic1\", \"Topic1\", \"Topic1\", \"Topic1\", \"Topic1\", \"Topic1\", \"Topic1\", \"Topic1\", \"Topic1\", \"Topic1\", \"Topic1\", \"Topic1\", \"Topic1\", \"Topic1\", \"Topic1\", \"Topic1\", \"Topic1\", \"Topic1\", \"Topic1\", \"Topic1\", \"Topic1\", \"Topic1\", \"Topic1\", \"Topic1\", \"Topic1\", \"Topic1\", \"Topic1\", \"Topic2\", \"Topic2\", \"Topic2\", \"Topic2\", \"Topic2\", \"Topic2\", \"Topic2\", \"Topic2\", \"Topic2\", \"Topic2\", \"Topic2\", \"Topic2\", \"Topic2\", \"Topic2\", \"Topic2\", \"Topic2\", \"Topic2\", \"Topic2\", \"Topic2\", \"Topic2\", \"Topic2\", \"Topic2\", \"Topic2\", \"Topic2\", \"Topic2\", \"Topic2\", \"Topic2\", \"Topic2\", \"Topic2\", \"Topic2\", \"Topic2\", \"Topic2\", \"Topic2\", \"Topic2\", \"Topic2\", \"Topic2\", \"Topic2\", \"Topic2\", \"Topic2\", \"Topic2\", \"Topic2\", \"Topic2\", \"Topic2\", \"Topic2\", \"Topic2\", \"Topic2\", \"Topic2\", \"Topic2\", \"Topic2\", \"Topic2\", \"Topic2\", \"Topic2\", \"Topic2\", \"Topic2\", \"Topic2\", \"Topic3\", \"Topic3\", \"Topic3\", \"Topic3\", \"Topic3\", \"Topic3\", \"Topic3\", \"Topic3\", \"Topic3\", \"Topic3\", \"Topic3\", \"Topic3\", \"Topic3\", \"Topic3\", \"Topic3\", \"Topic3\", \"Topic3\", \"Topic3\", \"Topic3\", \"Topic3\", \"Topic3\", \"Topic3\", \"Topic3\", \"Topic3\", \"Topic3\", \"Topic3\", \"Topic3\", \"Topic3\", \"Topic3\", \"Topic3\", \"Topic3\", \"Topic3\", \"Topic3\", \"Topic3\", \"Topic3\", \"Topic3\", \"Topic3\", \"Topic3\", \"Topic3\", \"Topic3\", \"Topic3\", \"Topic3\", \"Topic3\", \"Topic3\", \"Topic3\", \"Topic3\", \"Topic3\", \"Topic3\", \"Topic3\", \"Topic3\", \"Topic3\", \"Topic3\", \"Topic3\", \"Topic3\", \"Topic3\", \"Topic4\", \"Topic4\", \"Topic4\", \"Topic4\", \"Topic4\", \"Topic4\", \"Topic4\", \"Topic4\", \"Topic4\", \"Topic4\", \"Topic4\", \"Topic4\", \"Topic4\", \"Topic4\", \"Topic4\", \"Topic4\", \"Topic4\", \"Topic4\", \"Topic4\", \"Topic4\", \"Topic4\", \"Topic4\", \"Topic4\", \"Topic4\", \"Topic4\", \"Topic4\", \"Topic4\", \"Topic4\", \"Topic4\", \"Topic4\", \"Topic4\", \"Topic4\", \"Topic4\", \"Topic4\", \"Topic4\", \"Topic4\", \"Topic4\", \"Topic4\", \"Topic4\", \"Topic4\", \"Topic4\", \"Topic4\", \"Topic4\", \"Topic4\", \"Topic4\", \"Topic4\", \"Topic4\", \"Topic4\", \"Topic4\", \"Topic4\", \"Topic4\", \"Topic4\", \"Topic4\", \"Topic5\", \"Topic5\", \"Topic5\", \"Topic5\", \"Topic5\", \"Topic5\", \"Topic5\", \"Topic5\", \"Topic5\", \"Topic5\", \"Topic5\", \"Topic5\", \"Topic5\", \"Topic5\", \"Topic5\", \"Topic5\", \"Topic5\", \"Topic5\", \"Topic5\", \"Topic5\", \"Topic5\", \"Topic5\", \"Topic5\", \"Topic5\", \"Topic5\", \"Topic5\", \"Topic5\", \"Topic5\", \"Topic5\", \"Topic5\", \"Topic5\", \"Topic5\", \"Topic5\", \"Topic5\", \"Topic5\", \"Topic5\", \"Topic5\", \"Topic5\", \"Topic5\", \"Topic5\", \"Topic5\", \"Topic5\", \"Topic5\", \"Topic5\", \"Topic5\", \"Topic5\", \"Topic5\", \"Topic5\", \"Topic5\", \"Topic5\", \"Topic5\", \"Topic6\", \"Topic6\", \"Topic6\", \"Topic6\", \"Topic6\", \"Topic6\", \"Topic6\", \"Topic6\", \"Topic6\", \"Topic6\", \"Topic6\", \"Topic6\", \"Topic6\", \"Topic6\", \"Topic6\", \"Topic6\", \"Topic6\", \"Topic6\", \"Topic6\", \"Topic6\", \"Topic6\", \"Topic6\", \"Topic6\", \"Topic6\", \"Topic6\", \"Topic6\", \"Topic6\", \"Topic6\", \"Topic6\", \"Topic6\", \"Topic6\", \"Topic6\", \"Topic6\", \"Topic6\", \"Topic6\", \"Topic6\", \"Topic6\", \"Topic6\", \"Topic6\", \"Topic6\", \"Topic6\", \"Topic6\", \"Topic6\", \"Topic6\", \"Topic7\", \"Topic7\", \"Topic7\", \"Topic7\", \"Topic7\", \"Topic7\", \"Topic7\", \"Topic7\", \"Topic7\", \"Topic7\", \"Topic7\", \"Topic7\", \"Topic7\", \"Topic7\", \"Topic7\", \"Topic7\", \"Topic7\", \"Topic7\", \"Topic7\", \"Topic7\", \"Topic7\", \"Topic7\", \"Topic7\", \"Topic7\", \"Topic7\", \"Topic7\", \"Topic7\", \"Topic7\", \"Topic7\", \"Topic7\", \"Topic7\", \"Topic7\", \"Topic7\", \"Topic7\", \"Topic7\", \"Topic7\", \"Topic7\", \"Topic7\", \"Topic7\", \"Topic7\", \"Topic7\", \"Topic7\", \"Topic7\", \"Topic7\", \"Topic8\", \"Topic8\", \"Topic8\", \"Topic8\", \"Topic8\", \"Topic8\", \"Topic8\", \"Topic8\", \"Topic8\", \"Topic8\", \"Topic8\", \"Topic8\", \"Topic8\", \"Topic8\", \"Topic8\", \"Topic8\", \"Topic8\", \"Topic8\", \"Topic8\", \"Topic8\", \"Topic8\", \"Topic8\", \"Topic8\", \"Topic8\", \"Topic8\", \"Topic8\", \"Topic8\", \"Topic8\", \"Topic8\", \"Topic8\", \"Topic8\", \"Topic8\", \"Topic8\", \"Topic8\", \"Topic8\", \"Topic9\", \"Topic9\", \"Topic9\", \"Topic9\", \"Topic9\", \"Topic9\", \"Topic9\", \"Topic9\", \"Topic9\", \"Topic9\", \"Topic9\", \"Topic9\", \"Topic9\", \"Topic9\", \"Topic9\", \"Topic9\", \"Topic9\", \"Topic9\", \"Topic9\", \"Topic9\", \"Topic9\", \"Topic9\", \"Topic9\", \"Topic9\", \"Topic9\", \"Topic9\", \"Topic9\", \"Topic9\", \"Topic9\", \"Topic9\", \"Topic9\", \"Topic9\", \"Topic9\", \"Topic9\", \"Topic9\", \"Topic9\", \"Topic9\", \"Topic9\", \"Topic9\", \"Topic9\", \"Topic9\", \"Topic10\", \"Topic10\", \"Topic10\", \"Topic10\", \"Topic10\", \"Topic10\", \"Topic10\", \"Topic10\", \"Topic10\", \"Topic10\", \"Topic10\", \"Topic10\", \"Topic10\", \"Topic10\", \"Topic10\", \"Topic10\", \"Topic10\", \"Topic10\", \"Topic10\", \"Topic10\", \"Topic10\", \"Topic10\", \"Topic10\", \"Topic10\", \"Topic10\", \"Topic10\", \"Topic10\", \"Topic10\", \"Topic10\", \"Topic10\", \"Topic10\", \"Topic10\", \"Topic10\", \"Topic10\", \"Topic10\", \"Topic10\"], \"Freq\": [403827.0, 99178.0, 91314.0, 74968.0, 79506.0, 51136.0, 45989.0, 58333.0, 56616.0, 36901.0, 40508.0, 29470.0, 29603.0, 38731.0, 22373.0, 45307.0, 22015.0, 34926.0, 23580.0, 37537.0, 72076.0, 17421.0, 18057.0, 17289.0, 15403.0, 21043.0, 21515.0, 29514.0, 17748.0, 89902.0, 13878.5126953125, 13039.505859375, 10672.4501953125, 9420.71875, 10403.32421875, 9046.6953125, 7832.94384765625, 5901.53564453125, 5672.98291015625, 5663.47119140625, 5256.76318359375, 4930.62744140625, 4860.7548828125, 4728.8818359375, 4710.41650390625, 4298.4296875, 4245.80322265625, 4154.06982421875, 4005.925048828125, 3935.87109375, 3916.4892578125, 3622.47119140625, 3487.83203125, 3442.95849609375, 3433.1142578125, 3338.4482421875, 3215.280029296875, 3199.09130859375, 3177.730224609375, 3045.0478515625, 4403.96875, 5228.77978515625, 3598.449462890625, 8220.30078125, 3836.6669921875, 4316.01318359375, 17502.349609375, 12279.41796875, 18792.439453125, 9514.1982421875, 8330.4677734375, 17366.58984375, 13538.765625, 12257.7412109375, 5529.71044921875, 8439.2509765625, 8598.4833984375, 6736.1787109375, 6447.73193359375, 13470.9033203125, 12463.8837890625, 10155.3017578125, 17010.794921875, 13085.9375, 9614.3720703125, 7263.703125, 7469.30029296875, 7862.06591796875, 6786.4501953125, 7094.2314453125, 6951.10107421875, 58332.0390625, 56615.91796875, 17318.25, 6211.7978515625, 6085.8583984375, 5512.2900390625, 5428.6748046875, 5331.3701171875, 5029.7158203125, 4890.21484375, 4670.36328125, 3820.8837890625, 3734.542724609375, 3562.76904296875, 3440.408935546875, 3354.200439453125, 3158.0986328125, 3089.795166015625, 2970.2705078125, 2948.3818359375, 2947.520751953125, 2854.174560546875, 2842.30859375, 2794.927734375, 2757.877685546875, 2699.2607421875, 2650.531494140625, 2588.0244140625, 2544.476318359375, 2514.866455078125, 15248.71875, 14074.18359375, 7813.546875, 8778.5546875, 21161.509765625, 36221.92578125, 7668.083984375, 19447.66796875, 31757.3203125, 28559.5859375, 5630.0224609375, 6114.58349609375, 8322.216796875, 7832.8369140625, 4527.1962890625, 7535.3193359375, 11236.623046875, 5912.39599609375, 9377.4091796875, 8211.77734375, 7950.16943359375, 6212.4326171875, 6546.76611328125, 6018.51953125, 5497.03662109375, 403826.125, 14589.998046875, 6584.8955078125, 4775.0302734375, 4316.72998046875, 4010.085693359375, 3831.835693359375, 3480.536865234375, 3211.813720703125, 3086.046630859375, 2928.59033203125, 2783.397705078125, 2413.384765625, 2406.24951171875, 2055.9619140625, 2010.9775390625, 1964.439697265625, 1795.928466796875, 1758.42578125, 1744.3355712890625, 1735.719482421875, 1652.4542236328125, 1633.3968505859375, 1531.2061767578125, 1471.0626220703125, 1415.564453125, 1392.0487060546875, 1213.1368408203125, 1134.2764892578125, 1085.8900146484375, 2940.18701171875, 6369.06201171875, 20788.443359375, 4888.53564453125, 15217.5380859375, 11028.3212890625, 17583.419921875, 4800.71484375, 5117.07470703125, 8178.65673828125, 12235.55078125, 9515.4775390625, 2489.889892578125, 3362.46484375, 10348.55078125, 10953.64453125, 15335.615234375, 6272.19287109375, 6794.8916015625, 4965.27099609375, 4168.0888671875, 3423.27294921875, 4103.99658203125, 3661.55517578125, 3443.583984375, 14584.8779296875, 74961.625, 8820.18359375, 8642.25390625, 8098.1611328125, 6918.64453125, 6370.53125, 5971.39990234375, 5412.7265625, 5200.59716796875, 4233.208984375, 4185.4814453125, 4030.623046875, 3800.46337890625, 3691.388427734375, 3568.27685546875, 3278.83154296875, 3270.93017578125, 3225.347900390625, 3108.093994140625, 3077.9970703125, 2863.074951171875, 2831.317626953125, 2757.066650390625, 2541.798828125, 2390.42236328125, 2253.2138671875, 2196.278564453125, 2102.52490234375, 2050.4111328125, 2088.38623046875, 4143.57666015625, 17989.744140625, 18014.876953125, 28610.34375, 14483.111328125, 26207.70703125, 7665.751953125, 6189.87548828125, 7316.05810546875, 5508.13671875, 4238.7685546875, 10692.4697265625, 7995.65966796875, 6567.53173828125, 14641.5615234375, 6777.47998046875, 4704.302734375, 6289.07470703125, 5039.72216796875, 4866.42724609375, 4994.7900390625, 4807.37451171875, 91314.015625, 23579.560546875, 11093.2333984375, 5844.171875, 5829.2744140625, 5608.28564453125, 5292.591796875, 5211.16943359375, 40499.72265625, 3838.594970703125, 3623.05078125, 3552.740966796875, 3410.511474609375, 3391.453125, 3388.7861328125, 3359.984375, 3268.383056640625, 3235.297607421875, 3231.61083984375, 3181.56494140625, 3127.905029296875, 2973.321044921875, 2779.0693359375, 2738.427001953125, 2569.14453125, 2550.128662109375, 2423.110595703125, 2398.0888671875, 2392.790771484375, 2343.616455078125, 22690.31640625, 11188.1640625, 21506.203125, 6658.0478515625, 7223.3291015625, 5308.9560546875, 5497.029296875, 4987.99072265625, 5040.3056640625, 8787.859375, 9677.6884765625, 3906.238037109375, 5363.46240234375, 4061.105712890625, 4607.6484375, 3987.787109375, 3828.395751953125, 3558.275146484375, 4242.4482421875, 4008.01220703125, 3646.876953125, 45988.7265625, 18056.689453125, 11190.3779296875, 9846.2646484375, 9720.5771484375, 8045.24462890625, 12033.533203125, 7826.41162109375, 7119.91455078125, 5988.796875, 5907.5166015625, 5551.10595703125, 5175.73779296875, 4866.9052734375, 4540.02978515625, 4068.2412109375, 3790.1103515625, 3709.90185546875, 3521.42041015625, 3502.0947265625, 3379.53173828125, 3343.276611328125, 3289.8974609375, 2972.182373046875, 2801.913818359375, 2748.550048828125, 2694.877685546875, 2624.66796875, 2608.201171875, 2571.800048828125, 5793.1591796875, 4923.56787109375, 3209.2578125, 7477.72802734375, 9939.455078125, 8511.7333984375, 8918.0380859375, 4955.869140625, 4619.46923828125, 4862.00927734375, 6736.583984375, 5021.1083984375, 4952.09228515625, 4886.38330078125, 22014.51171875, 11482.388671875, 10327.5263671875, 10201.423828125, 9031.78125, 6501.2197265625, 5316.61279296875, 5313.625, 5204.9169921875, 5165.4541015625, 5046.02783203125, 5035.76513671875, 4485.2890625, 4453.70751953125, 4379.29638671875, 3997.6630859375, 3929.894287109375, 3682.78076171875, 3613.03271484375, 3566.866455078125, 3233.453369140625, 3172.643310546875, 3157.047607421875, 3149.00146484375, 3117.683349609375, 3086.16064453125, 3083.231689453125, 3059.4736328125, 3049.02685546875, 3046.879150390625, 12889.6640625, 10989.443359375, 4955.69482421875, 6321.55419921875, 6633.25927734375, 6002.32080078125, 6030.19482421875, 5164.3759765625, 6267.62646484375, 8182.0146484375, 7083.32861328125, 5165.39697265625, 4087.67236328125, 4403.99609375, 29602.546875, 17420.05078125, 17288.65625, 12074.2001953125, 9853.51171875, 9451.9619140625, 8187.92822265625, 7270.24267578125, 7268.07373046875, 6343.806640625, 5695.27294921875, 5443.396484375, 5311.5087890625, 5197.99365234375, 5159.47705078125, 4998.63916015625, 4513.76708984375, 4294.5908203125, 4159.908203125, 4075.776611328125, 3869.17236328125, 3807.683349609375, 3804.31982421875, 3773.88134765625, 3647.819580078125, 3172.9453125, 3159.41015625, 3124.03125, 3076.625732421875, 3022.457763671875, 9497.8125, 5933.9345703125, 4602.86669921875, 3935.662841796875, 3191.92236328125, 51135.48046875, 15402.4619140625, 9968.7333984375, 9908.982421875, 6067.92919921875, 5913.37109375, 5527.19580078125, 5201.2822265625, 4287.59912109375, 4187.2841796875, 3804.1064453125, 3714.005126953125, 3617.802734375, 3525.229736328125, 3466.537353515625, 3523.374267578125, 3263.563720703125, 3252.410888671875, 3224.809326171875, 3180.891845703125, 2958.1572265625, 2906.541748046875, 2639.279541015625, 2595.55078125, 2368.454345703125, 2353.7685546875, 2353.72412109375, 2263.65966796875, 2199.94140625, 2188.395751953125, 50946.20703125, 8599.001953125, 10160.09375, 5870.36767578125, 11194.3916015625, 5302.6025390625, 6407.64404296875, 4228.8359375, 10120.74609375, 4355.46240234375, 6272.52587890625, 99177.3984375, 36900.8125, 29469.85546875, 22372.154296875, 5774.5712890625, 4612.90771484375, 4538.12890625, 4153.951171875, 4127.31201171875, 4053.667724609375, 3645.900390625, 3210.009521484375, 3135.8994140625, 3094.46533203125, 2816.3427734375, 3057.104248046875, 2636.65283203125, 2158.33349609375, 2082.791259765625, 1986.5556640625, 1954.804931640625, 1805.2586669921875, 1702.73779296875, 1664.70361328125, 1664.196533203125, 1609.1964111328125, 1606.82568359375, 1509.9010009765625, 1472.33447265625, 1467.8377685546875, 3226.39794921875, 2537.629638671875, 2784.733642578125, 7316.501953125, 4421.05419921875, 3053.3095703125], \"Term\": [\"$\", \"need\", \"use\", \"change\", \"add\", \"line\", \"file\", \"remove\", \"test\", \"fix\", \"method\", \"update\", \"find\", \"comment\", \"thank\", \"code\", \"error\", \"instead\", \"class\", \"function\", \" \", \"=\", \"version\", \"`\", \"space\", \"pr\", \"good\", \"return\", \"default\", \"think\", \"list\", \"write\", \"datum\", \"read\", \"expect\", \"result\", \"order\", \"document\", \"input\", \"generate\", \"process\", \"non\", \"item\", \"switch\", \"size\", \"resource\", \"load\", \"template\", \"public\", \"cache\", \"depend\", \"solution\", \"feel\", \"good_catch\", \"container\", \"definition\", \"column\", \"convert\", \"detail\", \"sentence\", \"kind\", \"send\", \"group\", \"key\", \"pretty\", \"system\", \"\\n\\n\", \"different\", \"type\", \"api\", \"field\", \"way\", \"user\", \"time\", \"node\", \"support\", \"object\", \"avoid\", \"possible\", \"like\", \"want\", \"value\", \"think\", \" \", \"case\", \"know\", \"set\", \"code\", \"thing\", \"work\", \"check\", \"remove\", \"test\", \"yes\", \"section\", \"event\", \"feature\", \"see\", \"documentation\", \"docs\", \"stuff\", \"description\", \"notice\", \"testing\", \"internal\", \"purpose\", \"longer\", \"validation\", \"spec\", \"pull\", \"status\", \"functionality\", \"button\", \"cover\", \"stop\", \"unit_test\", \"hmm\", \"intend\", \"newline\", \"failure\", \"likely\", \"probably\", \"run\", \"bit\", \"make\", \"work\", \" \", \"handle\", \"case\", \"think\", \"add\", \"later\", \"logic\", \"example\", \"point\", \"make_sense\", \"actually\", \"code\", \"clear\", \"want\", \"sure\", \"check\", \"right\", \"like\", \"way\", \"fail\", \"$\", \"miss\", \"array\", \"approach\", \"query\", \"throw\", \"condition\", \"actual\", \"target\", \"global\", \"additional\", \"skip\", \"parse\", \"callback\", \"pointer\", \"record\", \"\\n\\n\\n\", \"paramet\", \"continue\", \"mock\", \"guarantee\", \"lose\", \"int\", \"equal\", \"incorrect\", \"nil\", \"row\", \"article\", \"lambda\", \"bool\", \"param\", \"null\", \"return\", \"statement\", \"value\", \"call\", \"check\", \"inside\", \"replace\", \"pass\", \"instead\", \"set\", \"assert\", \"loop\", \"function\", \"like\", \"think\", \"type\", \"case\", \"mean\", \"variable\", \"match\", \"well\", \"string\", \"want\", \"ok\", \"change\", \"merge\", \"follow\", \"style\", \"come\", \"suggestion\", \"s\", \"previous\", \"great\", \"revert\", \"exactly\", \"review\", \"keep\", \"job\", \"wrap\", \"okay\", \"important\", \"pattern\", \"discuss\", \"prop\", \"date\", \"\\n  \", \"title\", \"language\", \"inline\", \"sound_good\", \"convention\", \"color\", \"requirement\", \"connection\", \"refactore\", \"pr\", \"good\", \"comment\", \"look\", \"code\", \"correct\", \"nice\", \"leave\", \"understand\", \"multiple\", \"sure\", \"mean\", \"go\", \"think\", \"thing\", \"note\", \"like\", \"block\", \"get\", \"let\", \"want\", \"use\", \"class\", \"name\", \"interface\", \"constant\", \"rule\", \"tag\", \"constructor\", \"method\", \"local\", \"describe\", \"optional\", \"extract\", \"unused\", \"usage\", \"tell\", \"const\", \"override\", \"\\n \", \"install\", \"github\", \"syntax\", \"declare\", \"appropriate\", \"initialize\", \"default_value\", \"feel_like\", \"token\", \"java\", \"final\", \"instead\", \"variable\", \"function\", \"property\", \"parameter\", \"instance\", \"argument\", \"implementation\", \"similar\", \"maybe\", \" \", \"level\", \"create\", \"necessary\", \"default\", \"prefer\", \"base\", \"model\", \"like\", \"new\", \"avoid\", \"file\", \"version\", \"fine\", \"rename\", \"component\", \"package\", \"define\", \"project\", \"page\", \"dependency\", \"script\", \"address\", \"step\", \"directory\", \"configuration\", \"export\", \"introduce\", \"plugin\", \"static\", \"info\", \"indentation\", \"generic\", \"share\", \"execute\", \"present\", \"edit\", \"hash\", \"thread\", \"helper\", \"setup\", \"app\", \"library\", \"operation\", \"module\", \"build\", \"require\", \"create\", \"implement\", \"specific\", \"include\", \" \", \"run\", \"new\", \"work\", \"error\", \"option\", \"agree\", \"commit\", \"log\", \"exception\", \"line_long\", \"catch\", \"not\", \"branch\", \"header\", \"drop\", \"people\", \"suppose\", \"close\", \"save\", \"warning\", \"debug\", \"good_point\", \"response\", \"print\", \"indent\", \"thought\", \"matter\", \"limit\", \"standard\", \"false\", \"expose\", \"redundant\", \"entry\", \"default\", \"issue\", \"cause\", \"problem\", \"yeah\", \"provide\", \"happen\", \"config\", \"fail\", \"try\", \"think\", \"know\", \"request\", \"user\", \"find\", \"=\", \"`\", \" _issue\", \"`_`\", \"import\", \"number\", \"\\n    \", \"would\", \"service\", \"store\", \"release\", \"+\", \"<\", \"task\", \"python\", \"character\", \"oh\", \"suggestion_\\n    \", \"table\", \"filter\", \"resolve\", \"\\n        \", \"label\", \"=_=\", \"scope\", \"  \", \"plan\", \"namespace\", \"prefix\", \">\", \"true\", \"string\", \"support\", \"\\n\\n\", \"line\", \"space\", \"delete\", \"message\", \"image\", \"extra\", \"url\", \"explain\", \"wait\", \"private\", \"ask\", \"whitespace\", \"todo\", \"enable\", \"repo\", \"=_>\", \"refactor\", \"display\", \"let_know\", \"double\", \"master\", \"extension\", \"tab\", \"complete\", \"|\", \"annotation\", \"host\", \"extend\", \"cool\", \"byte\", \"add\", \"link\", \"end\", \"command\", \"new\", \"move\", \"block\", \"nit\", \"comment\", \"start\", \" \", \"need\", \"fix\", \"update\", \"thank\", \"sorry\", \"index\", \"forget\", \"\\ud83d\\udc4d\", \"ah\", \"anymore\", \"typo\", \"doc\", \"quote_string\", \"folder\", \"single_quote\", \"correctly\", \"database\", \"avoid_extra\", \"compile\", \"backslashe_escape\", \"trail_whitespace\", \"prefer_double\", \"compiler\", \"layout\", \"buffer\", \"initial\", \"dictionary\", \"beginning\", \"free\", \"docker\", \"bug\", \"detect\", \"push\", \"right\", \">\", \"pr\"], \"Total\": [403827.0, 99178.0, 91314.0, 74968.0, 79506.0, 51136.0, 45989.0, 58333.0, 56616.0, 36901.0, 40508.0, 29470.0, 29603.0, 38731.0, 22373.0, 45307.0, 22015.0, 34926.0, 23580.0, 37537.0, 72076.0, 17421.0, 18057.0, 17289.0, 15403.0, 21043.0, 21515.0, 29514.0, 17748.0, 89902.0, 13879.4833984375, 13040.4765625, 10673.4208984375, 9421.689453125, 10404.4736328125, 9047.703125, 7833.91455078125, 5902.50634765625, 5673.95361328125, 5664.44189453125, 5257.73388671875, 4931.59814453125, 4861.7255859375, 4729.8525390625, 4711.38720703125, 4299.400390625, 4246.77392578125, 4155.04052734375, 4006.89599609375, 3936.842041015625, 3917.460205078125, 3623.442138671875, 3488.802978515625, 3443.929443359375, 3434.085205078125, 3339.419189453125, 3216.2509765625, 3200.062255859375, 3178.701171875, 3046.018798828125, 4405.43408203125, 5257.6005859375, 3604.983154296875, 8433.0654296875, 3864.8017578125, 4377.7705078125, 20695.142578125, 14984.505859375, 25068.966796875, 11294.4462890625, 10474.5048828125, 27818.951171875, 21912.97265625, 19228.484375, 6419.171875, 12375.90625, 14539.4189453125, 10383.9169921875, 9559.0517578125, 43336.77734375, 37582.83203125, 25940.439453125, 89902.640625, 72076.6015625, 35857.73046875, 20371.658203125, 25436.6015625, 45307.1640625, 18530.55078125, 34704.6328125, 36124.37109375, 58333.01171875, 56616.890625, 17319.220703125, 6212.76953125, 6086.8310546875, 5513.263671875, 5429.646484375, 5332.341796875, 5030.6875, 4891.1865234375, 4671.3349609375, 3821.855224609375, 3735.51416015625, 3563.740478515625, 3441.38037109375, 3355.171875, 3159.070068359375, 3090.7666015625, 2971.241943359375, 2949.353271484375, 2948.4921875, 2855.14599609375, 2843.280029296875, 2795.89990234375, 2758.84912109375, 2700.232177734375, 2651.5029296875, 2588.995849609375, 2545.44775390625, 2515.837890625, 20254.96875, 19100.087890625, 9825.2900390625, 11495.7041015625, 34704.6328125, 72076.6015625, 10453.4892578125, 35857.73046875, 89902.640625, 79506.6875, 7679.66796875, 8863.0322265625, 15105.515625, 14011.54296875, 6081.14794921875, 17820.00390625, 45307.1640625, 10876.126953125, 37582.83203125, 29202.57421875, 36124.37109375, 25448.64453125, 43336.77734375, 27818.951171875, 11768.412109375, 403827.09375, 14590.970703125, 6585.86865234375, 4776.00341796875, 4317.703125, 4011.061279296875, 3832.80908203125, 3481.51025390625, 3212.787109375, 3087.02001953125, 2929.563720703125, 2784.37109375, 2414.358154296875, 2407.222900390625, 2056.935302734375, 2011.9508056640625, 1965.4129638671875, 1796.9017333984375, 1759.3990478515625, 1745.308837890625, 1736.6927490234375, 1653.427490234375, 1634.3701171875, 1532.179443359375, 1472.035888671875, 1416.5377197265625, 1393.02197265625, 1214.110107421875, 1135.2498779296875, 1086.8634033203125, 2946.484130859375, 7187.703125, 29514.794921875, 6124.7998046875, 25940.439453125, 18432.427734375, 36124.37109375, 6752.33447265625, 7520.08251953125, 17216.5234375, 34926.734375, 25436.6015625, 3053.239990234375, 5008.18505859375, 37537.4375, 43336.77734375, 89902.640625, 25068.966796875, 35857.73046875, 19715.1640625, 15357.1162109375, 6888.83251953125, 20401.810546875, 16741.826171875, 37582.83203125, 14585.8505859375, 74968.4453125, 8821.15625, 8643.2265625, 8099.13427734375, 6919.61767578125, 6371.50439453125, 5972.373046875, 5413.69970703125, 5201.5703125, 4234.181640625, 4186.45458984375, 4031.59619140625, 3801.4365234375, 3692.361572265625, 3569.25, 3279.8046875, 3271.9033203125, 3226.321044921875, 3109.067138671875, 3078.97021484375, 2864.048095703125, 2832.290771484375, 2758.039794921875, 2542.77197265625, 2391.3955078125, 2254.18701171875, 2197.251708984375, 2103.498046875, 2051.38427734375, 2089.569091796875, 4207.36328125, 21043.9140625, 21515.802734375, 38731.94921875, 19789.7890625, 45307.1640625, 11821.353515625, 8802.634765625, 11796.103515625, 7723.70361328125, 5327.91455078125, 29202.57421875, 19715.1640625, 14275.275390625, 89902.640625, 18530.55078125, 8195.5322265625, 43336.77734375, 13900.9189453125, 12855.837890625, 16887.939453125, 37582.83203125, 91314.984375, 23580.525390625, 11094.19921875, 5845.1376953125, 5830.240234375, 5609.25146484375, 5293.5576171875, 5212.13525390625, 40508.62109375, 3839.560791015625, 3624.016845703125, 3553.706787109375, 3411.477294921875, 3392.4189453125, 3389.751953125, 3360.950439453125, 3269.348876953125, 3236.263427734375, 3232.57666015625, 3182.53076171875, 3128.87109375, 2974.286865234375, 2780.03515625, 2739.392822265625, 2570.1103515625, 2551.094482421875, 2424.07666015625, 2399.0546875, 2393.756591796875, 2344.582275390625, 34926.734375, 15357.1162109375, 37537.4375, 8806.1005859375, 10016.1396484375, 7460.267578125, 8769.5654296875, 7535.986328125, 8048.8603515625, 28272.474609375, 72076.6015625, 6159.87109375, 20429.958984375, 9011.26953125, 17748.673828125, 8521.8271484375, 8402.2490234375, 4980.50732421875, 43336.77734375, 24750.64453125, 10383.9169921875, 45989.6953125, 18057.654296875, 11191.3447265625, 9847.2314453125, 9721.5439453125, 8046.21142578125, 12034.984375, 7827.37890625, 7120.8818359375, 5989.76416015625, 5908.48388671875, 5552.0732421875, 5176.705078125, 4867.87255859375, 4540.9970703125, 4069.208251953125, 3791.077392578125, 3710.868896484375, 3522.387451171875, 3503.061767578125, 3380.498779296875, 3344.24365234375, 3290.864501953125, 2973.1494140625, 2802.880859375, 2749.51708984375, 2695.8447265625, 2625.635009765625, 2609.168212890625, 2572.76708984375, 5797.646484375, 4925.6689453125, 3218.534423828125, 7866.4970703125, 12651.2333984375, 14144.990234375, 20429.958984375, 8116.27490234375, 8921.224609375, 12540.21875, 72076.6015625, 19100.087890625, 24750.64453125, 34704.6328125, 22015.521484375, 11483.3544921875, 10328.4921875, 10202.3896484375, 9032.7470703125, 6502.1865234375, 5317.57958984375, 5314.591796875, 5205.8837890625, 5166.4208984375, 5046.99462890625, 5036.73193359375, 4486.255859375, 4454.67431640625, 4380.26318359375, 3998.629638671875, 3930.86083984375, 3683.747314453125, 3613.999267578125, 3567.8330078125, 3234.419921875, 3173.60986328125, 3158.01416015625, 3149.968505859375, 3118.64990234375, 3087.127197265625, 3084.1982421875, 3060.440185546875, 3049.993408203125, 3047.845703125, 17748.673828125, 16948.705078125, 5969.85986328125, 9069.015625, 9991.9912109375, 9381.259765625, 9576.912109375, 7523.5751953125, 11768.412109375, 20060.42578125, 89902.640625, 20371.658203125, 7488.00634765625, 21912.97265625, 29603.5234375, 17421.017578125, 17289.623046875, 12075.1669921875, 9854.478515625, 9452.9287109375, 8188.8955078125, 7271.2099609375, 7269.041015625, 6344.77392578125, 5696.240234375, 5444.36376953125, 5312.47607421875, 5198.9609375, 5160.4443359375, 4999.6064453125, 4514.734375, 4295.55810546875, 4160.884765625, 4076.74462890625, 3870.1396484375, 3808.650634765625, 3805.286865234375, 3774.8486328125, 3648.78662109375, 3173.91259765625, 3160.37744140625, 3124.99853515625, 3077.593017578125, 3023.425048828125, 13919.720703125, 7682.44189453125, 16741.826171875, 12375.90625, 20695.142578125, 51136.4453125, 15403.423828125, 9969.6953125, 9909.9443359375, 6068.89111328125, 5914.3330078125, 5528.15771484375, 5202.244140625, 4288.56103515625, 4188.24609375, 3805.068603515625, 3714.967041015625, 3618.7685546875, 3526.191650390625, 3467.499267578125, 3524.40673828125, 3264.525634765625, 3253.372802734375, 3225.771240234375, 3181.85400390625, 2959.119140625, 2907.503662109375, 2640.241455078125, 2596.515380859375, 2369.416259765625, 2354.73046875, 2354.686279296875, 2264.621826171875, 2200.9033203125, 2189.35791015625, 79506.6875, 11181.08203125, 13978.7861328125, 7858.27978515625, 24750.64453125, 8424.8896484375, 13900.9189453125, 6661.482421875, 38731.94921875, 11008.6083984375, 72076.6015625, 99178.359375, 36901.77734375, 29470.818359375, 22373.1171875, 5775.53466796875, 4613.87109375, 4539.09228515625, 4154.91455078125, 4128.275390625, 4054.630859375, 3646.863525390625, 3210.97265625, 3136.862548828125, 3095.4287109375, 2817.305908203125, 3058.21435546875, 2637.6162109375, 2159.296630859375, 2083.75439453125, 1987.518798828125, 1955.76806640625, 1806.2218017578125, 1703.7010498046875, 1665.6668701171875, 1665.1597900390625, 1610.15966796875, 1607.7889404296875, 1510.8642578125, 1473.2977294921875, 1468.801025390625, 5094.1220703125, 3748.86767578125, 4490.62939453125, 25448.64453125, 13919.720703125, 21043.9140625], \"loglift\": [30.0, 29.0, 28.0, 27.0, 26.0, 25.0, 24.0, 23.0, 22.0, 21.0, 20.0, 19.0, 18.0, 17.0, 16.0, 15.0, 14.0, 13.0, 12.0, 11.0, 10.0, 9.0, 8.0, 7.0, 6.0, 5.0, 4.0, 3.0, 2.0, 1.0, 1.8456000089645386, 1.8456000089645386, 1.8454999923706055, 1.8454999923706055, 1.8454999923706055, 1.8454999923706055, 1.8454999923706055, 1.8454999923706055, 1.8454999923706055, 1.8454999923706055, 1.8453999757766724, 1.8453999757766724, 1.8453999757766724, 1.8453999757766724, 1.8453999757766724, 1.8453999757766724, 1.8453999757766724, 1.8453999757766724, 1.8453999757766724, 1.8453999757766724, 1.8453999757766724, 1.8453999757766724, 1.8453999757766724, 1.8453999757766724, 1.8452999591827393, 1.8452999591827393, 1.8452999591827393, 1.8452999591827393, 1.8452999591827393, 1.8452999591827393, 1.8452999591827393, 1.8401000499725342, 1.8437999486923218, 1.820099949836731, 1.8382999897003174, 1.8314000368118286, 1.6780999898910522, 1.6464999914169312, 1.5575000047683716, 1.6741000413894653, 1.6166000366210938, 1.374500036239624, 1.3640999794006348, 1.395400047302246, 1.6964999437332153, 1.4628000259399414, 1.3203999996185303, 1.4128999710083008, 1.4519000053405762, 0.6772000193595886, 0.7419000267982483, 0.907800018787384, 0.18080000579357147, 0.13940000534057617, 0.5292999744415283, 0.8144000172615051, 0.620199978351593, 0.094200000166893, 0.8410999774932861, 0.257999986410141, 0.19760000705718994, 1.9186999797821045, 1.9186999797821045, 1.9185999631881714, 1.9184999465942383, 1.9184999465942383, 1.9184999465942383, 1.9184999465942383, 1.9184999465942383, 1.9184999465942383, 1.9184999465942383, 1.9184999465942383, 1.9184000492095947, 1.9184000492095947, 1.9184000492095947, 1.9184000492095947, 1.9184000492095947, 1.9184000492095947, 1.9184000492095947, 1.9184000492095947, 1.9184000492095947, 1.9184000492095947, 1.9184000492095947, 1.9184000492095947, 1.9184000492095947, 1.9183000326156616, 1.9183000326156616, 1.9183000326156616, 1.9183000326156616, 1.9183000326156616, 1.9183000326156616, 1.6347999572753906, 1.6132999658584595, 1.6895999908447266, 1.6490000486373901, 1.4240000247955322, 1.2305999994277954, 1.6088000535964966, 1.3069000244140625, 0.8780999779701233, 0.8949000239372253, 1.608199954032898, 1.5475000143051147, 1.32260000705719, 1.3371000289916992, 1.6236000061035156, 1.0579999685287476, 0.524399995803833, 1.3092000484466553, 0.5304999947547913, 0.6499999761581421, 0.4049000144004822, 0.5085999965667725, 0.028699999675154686, 0.387800008058548, 1.1575000286102295, 2.0346999168395996, 2.034600019454956, 2.034600019454956, 2.0344998836517334, 2.0344998836517334, 2.0344998836517334, 2.03439998626709, 2.03439998626709, 2.03439998626709, 2.03439998626709, 2.03439998626709, 2.03439998626709, 2.0343000888824463, 2.0343000888824463, 2.0341999530792236, 2.0341999530792236, 2.0341999530792236, 2.0341999530792236, 2.03410005569458, 2.03410005569458, 2.03410005569458, 2.03410005569458, 2.03410005569458, 2.03410005569458, 2.0339999198913574, 2.0339999198913574, 2.0339999198913574, 2.033900022506714, 2.033799886703491, 2.033799886703491, 2.032599925994873, 1.9138000011444092, 1.6842000484466553, 1.8092000484466553, 1.5012999773025513, 1.5211000442504883, 1.3147000074386597, 1.693600058555603, 1.6497000455856323, 1.2904000282287598, 0.98580002784729, 1.0513999462127686, 1.8307000398635864, 1.636299967765808, 0.7462000250816345, 0.6593999862670898, 0.2662000060081482, 0.6492000222206116, 0.37130001187324524, 0.6557999849319458, 0.7305999994277954, 1.3353999853134155, 0.4309999942779541, 0.5146999955177307, -0.35530000925064087, 2.249799966812134, 2.249799966812134, 2.2497000694274902, 2.2497000694274902, 2.2497000694274902, 2.2497000694274902, 2.2497000694274902, 2.2497000694274902, 2.2497000694274902, 2.2497000694274902, 2.2495999336242676, 2.2495999336242676, 2.2495999336242676, 2.2495999336242676, 2.2495999336242676, 2.2495999336242676, 2.2495999336242676, 2.2495999336242676, 2.2495999336242676, 2.249500036239624, 2.249500036239624, 2.249500036239624, 2.249500036239624, 2.249500036239624, 2.249500036239624, 2.2493999004364014, 2.2493999004364014, 2.2493999004364014, 2.2493999004364014, 2.2493999004364014, 2.249300003051758, 2.234600067138672, 2.0929999351501465, 2.0722999572753906, 1.9470000267028809, 1.9377000331878662, 1.7023999691009521, 1.8166999816894531, 1.8976999521255493, 1.7721999883651733, 1.9118000268936157, 2.021199941635132, 1.2451000213623047, 1.3473999500274658, 1.4735000133514404, 0.4350000023841858, 1.24399995803833, 1.694700002670288, 0.3197000026702881, 1.235200047492981, 1.27839994430542, 1.031599998474121, 0.19349999725818634, 2.272599935531616, 2.272599935531616, 2.2725000381469727, 2.2725000381469727, 2.2725000381469727, 2.27239990234375, 2.27239990234375, 2.27239990234375, 2.27239990234375, 2.27239990234375, 2.27239990234375, 2.2723000049591064, 2.2723000049591064, 2.2723000049591064, 2.2723000049591064, 2.2723000049591064, 2.2723000049591064, 2.2723000049591064, 2.2723000049591064, 2.2723000049591064, 2.2723000049591064, 2.2723000049591064, 2.2723000049591064, 2.2723000049591064, 2.272200107574463, 2.272200107574463, 2.272200107574463, 2.272200107574463, 2.272200107574463, 2.272200107574463, 1.8413000106811523, 1.955899953842163, 1.7156000137329102, 1.9930000305175781, 1.9457000494003296, 1.9323999881744385, 1.8055000305175781, 1.8600000143051147, 1.8046000003814697, 1.104099988937378, 0.2646999955177307, 1.8171000480651855, 0.9351999759674072, 1.475600004196167, 0.9240000247955322, 1.513200044631958, 1.4866000413894653, 1.936400055885315, -0.05119999870657921, 0.45210000872612, 1.226199984550476, 2.488800048828125, 2.4886999130249023, 2.4886999130249023, 2.4886999130249023, 2.4886999130249023, 2.4886999130249023, 2.4886999130249023, 2.4886999130249023, 2.4886999130249023, 2.488600015640259, 2.488600015640259, 2.488600015640259, 2.488600015640259, 2.488600015640259, 2.488600015640259, 2.4885001182556152, 2.4885001182556152, 2.4885001182556152, 2.4885001182556152, 2.4885001182556152, 2.4885001182556152, 2.4885001182556152, 2.4885001182556152, 2.4885001182556152, 2.4883999824523926, 2.4883999824523926, 2.4883999824523926, 2.4883999824523926, 2.4883999824523926, 2.4883999824523926, 2.48799991607666, 2.4883999824523926, 2.4858999252319336, 2.4381000995635986, 2.247499942779541, 1.9809000492095947, 1.6598999500274658, 1.9954999685287476, 1.8306000232696533, 1.5413000583648682, 0.11860000342130661, 1.1526999473571777, 0.8797000050544739, 0.5284000039100647, 2.5882999897003174, 2.5882999897003174, 2.5882999897003174, 2.5882999897003174, 2.588200092315674, 2.588200092315674, 2.588200092315674, 2.588200092315674, 2.588200092315674, 2.588200092315674, 2.588200092315674, 2.588200092315674, 2.588099956512451, 2.588099956512451, 2.588099956512451, 2.588099956512451, 2.588099956512451, 2.588099956512451, 2.588099956512451, 2.588099956512451, 2.588099956512451, 2.588099956512451, 2.5880000591278076, 2.5880000591278076, 2.5880000591278076, 2.5880000591278076, 2.5880000591278076, 2.5880000591278076, 2.5880000591278076, 2.5880000591278076, 2.2685000896453857, 2.155100107192993, 2.4021999835968018, 2.2274999618530273, 2.1786999702453613, 2.1417999267578125, 2.1257998943328857, 2.212100028991699, 1.958299994468689, 1.691499948501587, 0.04740000143647194, 1.2161999940872192, 1.9830000400543213, 0.9837999939918518, 2.597399950027466, 2.597399950027466, 2.597399950027466, 2.597399950027466, 2.597399950027466, 2.597399950027466, 2.597399950027466, 2.5973000526428223, 2.5973000526428223, 2.5973000526428223, 2.5973000526428223, 2.5973000526428223, 2.5973000526428223, 2.5973000526428223, 2.5973000526428223, 2.5973000526428223, 2.5973000526428223, 2.5973000526428223, 2.5971999168395996, 2.5971999168395996, 2.5971999168395996, 2.5971999168395996, 2.5971999168395996, 2.5971999168395996, 2.5971999168395996, 2.5971999168395996, 2.5971999168395996, 2.5971999168395996, 2.5971999168395996, 2.5971999168395996, 2.2151999473571777, 2.339200019836426, 1.3062000274658203, 1.451799988746643, 0.7282000184059143, 2.6840999126434326, 2.6840999126434326, 2.6840999126434326, 2.6840999126434326, 2.684000015258789, 2.684000015258789, 2.684000015258789, 2.684000015258789, 2.6839001178741455, 2.6839001178741455, 2.6839001178741455, 2.6839001178741455, 2.6839001178741455, 2.6839001178741455, 2.6839001178741455, 2.6839001178741455, 2.6839001178741455, 2.6839001178741455, 2.6839001178741455, 2.6839001178741455, 2.683799982070923, 2.683799982070923, 2.683799982070923, 2.683799982070923, 2.683799982070923, 2.6837000846862793, 2.6837000846862793, 2.6837000846862793, 2.6837000846862793, 2.6837000846862793, 2.2390999794006348, 2.421600103378296, 2.3650999069213867, 2.3924999237060547, 1.8906999826431274, 2.2211999893188477, 1.9097000360488892, 2.2297000885009766, 1.3421000242233276, 1.7568999528884888, 0.2425999939441681, 2.896699905395508, 2.8966000080108643, 2.8966000080108643, 2.8966000080108643, 2.8965001106262207, 2.8965001106262207, 2.8965001106262207, 2.896399974822998, 2.896399974822998, 2.896399974822998, 2.896399974822998, 2.896399974822998, 2.896399974822998, 2.896399974822998, 2.8963000774383545, 2.8963000774383545, 2.8963000774383545, 2.896199941635132, 2.896199941635132, 2.896199941635132, 2.896199941635132, 2.8961000442504883, 2.8961000442504883, 2.8961000442504883, 2.8961000442504883, 2.8961000442504883, 2.8961000442504883, 2.8959999084472656, 2.8959999084472656, 2.8959999084472656, 2.440000057220459, 2.5064001083374023, 2.418800115585327, 1.6500999927520752, 1.7496999502182007, 0.9663000106811523], \"logprob\": [30.0, 29.0, 28.0, 27.0, 26.0, 25.0, 24.0, 23.0, 22.0, 21.0, 20.0, 19.0, 18.0, 17.0, 16.0, 15.0, 14.0, 13.0, 12.0, 11.0, 10.0, 9.0, 8.0, 7.0, 6.0, 5.0, 4.0, 3.0, 2.0, 1.0, -4.402299880981445, -4.464700222015381, -4.664999961853027, -4.789700031280518, -4.690499782562256, -4.8302001953125, -4.974299907684326, -5.257400035858154, -5.296899795532227, -5.298600196838379, -5.3730998039245605, -5.43720006942749, -5.451399803161621, -5.478899955749512, -5.482900142669678, -5.574399948120117, -5.586699962615967, -5.608500003814697, -5.644899845123291, -5.662499904632568, -5.667399883270264, -5.745500087738037, -5.783400058746338, -5.796299934387207, -5.799200057983398, -5.827099800109863, -5.864699840545654, -5.869800090789795, -5.876500129699707, -5.919099807739258, -5.550099849700928, -5.378499984741211, -5.752099990844727, -4.926000118255615, -5.688000202178955, -5.570300102233887, -4.170300006866455, -4.524700164794922, -4.0991997718811035, -4.779799938201904, -4.912700176239014, -4.178100109100342, -4.42710018157959, -4.526500225067139, -5.322500228881836, -4.899700164794922, -4.88100004196167, -5.125100135803223, -5.168900012969971, -4.43209981918335, -4.509799957275391, -4.714600086212158, -4.198800086975098, -4.461100101470947, -4.769400119781494, -5.049699783325195, -5.0218000411987305, -4.970600128173828, -5.117700099945068, -5.073400020599365, -5.093699932098389, -2.893399953842163, -2.92330002784729, -4.107800006866455, -5.1331000328063965, -5.153600215911865, -5.252600193023682, -5.267899990081787, -5.285999774932861, -5.344200134277344, -5.372300148010254, -5.418300151824951, -5.619100093841553, -5.641900062561035, -5.689000129699707, -5.723999977111816, -5.7494001388549805, -5.809599876403809, -5.831500053405762, -5.8709001541137695, -5.878300189971924, -5.878600120544434, -5.910799980163574, -5.914999961853027, -5.93179988861084, -5.945099830627441, -5.966599941253662, -5.984799861907959, -6.008699893951416, -6.025599956512451, -6.037300109863281, -4.235099792480469, -4.315199851989746, -4.90369987487793, -4.787300109863281, -3.907399892807007, -3.3698999881744385, -4.922500133514404, -3.99180006980896, -3.5013999938964844, -3.607599973678589, -5.231500148773193, -5.148900032043457, -4.84060001373291, -4.901199817657471, -5.44950008392334, -4.940000057220459, -4.54040002822876, -5.182499885559082, -4.72130012512207, -4.854000091552734, -4.88640022277832, -5.132999897003174, -5.080599784851074, -5.164700031280518, -5.25540018081665, -0.8425999879837036, -4.1631999015808105, -4.958799839019775, -5.280200004577637, -5.381100177764893, -5.454800128936768, -5.500199794769287, -5.596399784088135, -5.676700115203857, -5.716700077056885, -5.769000053405762, -5.819900035858154, -5.962500095367432, -5.9654998779296875, -6.122799873352051, -6.144899845123291, -6.168399810791016, -6.257999897003174, -6.279099941253662, -6.287199974060059, -6.292099952697754, -6.341300010681152, -6.35290002822876, -6.417500019073486, -6.457600116729736, -6.495999813079834, -6.512800216674805, -6.650400161743164, -6.717599868774414, -6.761199951171875, -5.765100002288818, -4.992099761962891, -3.8092000484466553, -5.256700038909912, -4.121099948883057, -4.4430999755859375, -3.976599931716919, -5.274799823760986, -5.210999965667725, -4.742000102996826, -4.339200019836426, -4.59060001373291, -5.931300163269043, -5.630899906158447, -4.506700038909912, -4.449900150299072, -4.113399982452393, -5.007400035858154, -4.9274001121521, -5.241099834442139, -5.416100025177002, -5.61299991607666, -5.431600093841553, -5.5457000732421875, -5.607100009918213, -3.9484000205993652, -2.3113999366760254, -4.451399803161621, -4.471799850463867, -4.536799907684326, -4.694200038909912, -4.776700019836426, -4.841400146484375, -4.939700126647949, -4.979599952697754, -5.185500144958496, -5.196800231933594, -5.234499931335449, -5.293300151824951, -5.322400093078613, -5.356299877166748, -5.440899848937988, -5.443299770355225, -5.457399845123291, -5.4944000244140625, -5.5040998458862305, -5.576499938964844, -5.587699890136719, -5.614200115203857, -5.695499897003174, -5.756899833679199, -5.816100120544434, -5.841700077056885, -5.885300159454346, -5.910399913787842, -5.892000198364258, -5.206900119781494, -3.738600015640259, -3.7372000217437744, -3.274600028991699, -3.955399990081787, -3.3624000549316406, -4.591700077056885, -4.805500030517578, -4.638299942016602, -4.9222002029418945, -5.184100151062012, -4.258900165557861, -4.549499988555908, -4.746300220489502, -3.9446001052856445, -4.714799880981445, -5.079899787902832, -4.789599895477295, -5.011099815368652, -5.04610013961792, -5.019999980926514, -5.058300018310547, -2.0913000106811523, -3.4453001022338867, -4.1992998123168945, -4.840199947357178, -4.842800140380859, -4.881400108337402, -4.939300060272217, -4.954800128936768, -2.904400110244751, -5.260499954223633, -5.318299770355225, -5.337900161743164, -5.378799915313721, -5.384399890899658, -5.385200023651123, -5.393700122833252, -5.42140007019043, -5.43149995803833, -5.432700157165527, -5.448299884796143, -5.4653000831604, -5.515999794006348, -5.583499908447266, -5.598299980163574, -5.662099838256836, -5.66949987411499, -5.720600128173828, -5.730999946594238, -5.7332000732421875, -5.754000186920166, -3.4837000370025635, -4.190800189971924, -3.5373001098632812, -4.709799766540527, -4.628300189971924, -4.936299800872803, -4.901400089263916, -4.998600006103516, -4.9882001876831055, -4.432300090789795, -4.3358001708984375, -5.243100166320801, -4.926000118255615, -5.20419979095459, -5.077899932861328, -5.222400188446045, -5.263199806213379, -5.336400032043457, -5.1605000495910645, -5.217400074005127, -5.311800003051758, -2.5611000061035156, -3.496000051498413, -3.974400043487549, -4.102399826049805, -4.115200042724609, -4.3043999671936035, -3.9017999172210693, -4.331999778747559, -4.426599979400635, -4.599599838256836, -4.61329984664917, -4.67549991607666, -4.745500087738037, -4.807000160217285, -4.876500129699707, -4.986299991607666, -5.05709981918335, -5.078499794006348, -5.1305999755859375, -5.136099815368652, -5.1717000007629395, -5.182499885559082, -5.198599815368652, -5.30019998550415, -5.3592000007629395, -5.378399848937988, -5.398099899291992, -5.424499988555908, -5.430799961090088, -5.444900035858154, -4.632800102233887, -4.795400142669678, -5.223400115966797, -4.377600193023682, -4.0929999351501465, -4.248000144958496, -4.201399803161621, -4.788899898529053, -4.8592000007629395, -4.808000087738037, -4.481900215148926, -4.7758002281188965, -4.789700031280518, -4.802999973297119, -3.198199987411499, -3.849100112915039, -3.9551000595092773, -3.967400074005127, -4.089200019836426, -4.417900085449219, -4.619100093841553, -4.61959981918335, -4.6402997970581055, -4.647900104522705, -4.671299934387207, -4.673299789428711, -4.789100170135498, -4.796199798583984, -4.813000202178955, -4.904200077056885, -4.921299934387207, -4.986199855804443, -5.00540018081665, -5.018199920654297, -5.116399765014648, -5.135300159454346, -5.1402997970581055, -5.1427998542785645, -5.1528000831604, -5.163000106811523, -5.163899898529053, -5.1717000007629395, -5.175099849700928, -5.17579984664917, -3.7335000038146973, -3.8929998874664307, -4.6894001960754395, -4.445899963378906, -4.397799968719482, -4.497799873352051, -4.493100166320801, -4.648099899291992, -4.454500198364258, -4.188000202178955, -4.332200050354004, -4.647900104522705, -4.881899833679199, -4.807400226593018, -2.892899990081787, -3.4231998920440674, -3.4307000637054443, -3.7897000312805176, -3.993000030517578, -4.034599781036377, -4.178100109100342, -4.296999931335449, -4.297299861907959, -4.433300018310547, -4.541200160980225, -4.586400032043457, -4.610899925231934, -4.632500171661377, -4.639999866485596, -4.671599864959717, -4.77370023727417, -4.823400020599365, -4.855299949645996, -4.875699996948242, -4.927700042724609, -4.94379997253418, -4.944699764251709, -4.952700138092041, -4.986700057983398, -5.126100063323975, -5.13040018081665, -5.14169979095459, -5.1570000648498535, -5.174699783325195, -4.029699802398682, -4.500100135803223, -4.7540998458862305, -4.910699844360352, -5.120200157165527, -2.2595999240875244, -3.4595999717712402, -3.894700050354004, -3.900700092315674, -4.39109992980957, -4.416900157928467, -4.484399795532227, -4.545199871063232, -4.738399982452393, -4.7621002197265625, -4.857999801635742, -4.881999969482422, -4.908199787139893, -4.934199810028076, -4.951000213623047, -4.934700012207031, -5.011300086975098, -5.014699935913086, -5.023200035095215, -5.036900043487549, -5.109499931335449, -5.127099990844727, -5.223599910736084, -5.240300178527832, -5.331900119781494, -5.338099956512451, -5.338099956512451, -5.377099990844727, -5.405700206756592, -5.410900115966797, -2.2632999420166016, -4.042500019073486, -3.8756000995635986, -4.424200057983398, -3.778700113296509, -4.525899887084961, -4.336599826812744, -4.752200126647949, -3.879499912261963, -4.722700119018555, -4.357900142669678, -1.3846999406814575, -2.3733999729156494, -2.5982000827789307, -2.873800039291382, -4.228099822998047, -4.452700138092041, -4.469099998474121, -4.557499885559082, -4.564000129699707, -4.581999778747559, -4.688000202178955, -4.815299987792969, -4.838699817657471, -4.8520002365112305, -4.946199893951416, -4.864099979400635, -5.0121002197265625, -5.212299823760986, -5.247900009155273, -5.295199871063232, -5.311299800872803, -5.390900135040283, -5.449399948120117, -5.47189998626709, -5.472300052642822, -5.505899906158447, -5.507299900054932, -5.5696001052856445, -5.594699859619141, -5.597799777984619, -4.810200214385986, -5.0503997802734375, -4.957399845123291, -3.991499900817871, -4.495200157165527, -4.8653998374938965]}, \"token.table\": {\"Topic\": [1, 8, 3, 5, 4, 8, 8, 1, 2, 3, 4, 5, 6, 8, 9, 8, 8, 3, 8, 8, 8, 8, 9, 8, 10, 8, 8, 3, 1, 2, 3, 6, 7, 2, 9, 3, 6, 7, 10, 9, 10, 1, 5, 6, 8, 3, 5, 3, 5, 3, 3, 9, 3, 8, 1, 5, 10, 10, 1, 2, 4, 5, 10, 2, 4, 7, 2, 3, 4, 5, 7, 8, 9, 3, 7, 10, 1, 2, 10, 6, 7, 2, 9, 1, 1, 3, 5, 6, 3, 1, 2, 3, 7, 1, 7, 2, 4, 8, 1, 2, 3, 6, 7, 5, 1, 2, 3, 5, 7, 1, 2, 4, 4, 1, 4, 2, 3, 9, 4, 9, 7, 10, 10, 9, 6, 3, 1, 7, 8, 6, 4, 5, 5, 5, 1, 3, 4, 1, 9, 2, 3, 4, 10, 2, 1, 5, 6, 10, 4, 1, 7, 5, 1, 2, 3, 5, 7, 8, 5, 5, 6, 1, 9, 1, 6, 5, 2, 1, 9, 10, 10, 1, 5, 6, 6, 4, 9, 10, 10, 2, 1, 2, 9, 7, 6, 9, 1, 9, 7, 3, 7, 2, 4, 1, 2, 3, 5, 7, 6, 1, 9, 6, 7, 9, 9, 9, 5, 2, 3, 7, 2, 7, 2, 1, 5, 1, 5, 6, 8, 5, 8, 6, 10, 10, 4, 10, 10, 1, 3, 5, 2, 1, 6, 1, 2, 3, 4, 6, 7, 5, 3, 1, 2, 4, 5, 7, 4, 7, 9, 1, 7, 4, 1, 8, 3, 2, 3, 4, 8, 1, 3, 4, 6, 7, 6, 7, 6, 2, 9, 9, 5, 6, 1, 5, 8, 4, 1, 2, 3, 4, 6, 7, 3, 7, 6, 10, 6, 10, 5, 4, 1, 3, 5, 5, 1, 5, 3, 5, 3, 2, 5, 2, 6, 1, 2, 7, 1, 5, 4, 4, 1, 8, 1, 5, 1, 2, 4, 7, 8, 3, 4, 1, 2, 10, 2, 4, 7, 1, 2, 3, 4, 5, 6, 7, 9, 9, 1, 5, 7, 9, 2, 6, 1, 2, 3, 4, 5, 6, 2, 7, 9, 7, 6, 9, 1, 1, 5, 7, 2, 3, 5, 2, 2, 4, 9, 1, 3, 3, 1, 2, 4, 2, 4, 9, 1, 2, 3, 7, 1, 2, 4, 5, 6, 7, 9, 1, 3, 4, 5, 4, 9, 3, 5, 3, 3, 2, 5, 5, 6, 2, 9, 4, 8, 5, 8, 2, 3, 5, 10, 1, 4, 5, 6, 8, 9, 2, 1, 4, 3, 3, 9, 1, 6, 1, 7, 2, 3, 4, 2, 3, 8, 8, 1, 3, 5, 8, 4, 4, 1, 6, 7, 5, 1, 5, 6, 6, 3, 4, 3, 1, 2, 3, 5, 3, 1, 2, 3, 5, 4, 7, 8, 6, 1, 2, 3, 4, 7, 3, 1, 3, 5, 6, 7, 4, 10, 2, 3, 4, 5, 10, 8, 6, 1, 6, 4, 7, 9, 1, 2, 1, 4, 7, 1, 6, 4, 3, 5, 5, 7, 1, 2, 2, 4, 10, 8, 3, 10, 1, 3, 7, 9, 2, 4, 8, 2, 6, 1, 3, 5, 8, 9, 1, 7, 1, 2, 5, 6, 4, 8, 1, 7, 1, 1, 3, 8, 4, 4, 1, 2, 3, 4, 10, 3, 5, 1, 2, 6, 4, 7, 8, 6, 2, 2, 1, 2, 1, 8, 1, 2, 3, 5, 6, 7, 8, 6, 6, 1, 2, 3, 5, 10, 1, 3, 1, 10, 4, 9, 2, 2, 5, 6, 7, 1, 2, 9, 3, 4, 6, 2, 6, 2, 8, 1, 3, 5, 7, 8, 10, 2, 4, 4, 8, 1, 8, 7, 1, 2, 3, 4, 6, 7, 1, 5, 1, 7, 9, 8, 5, 3, 8, 5, 1, 2, 2, 10, 1, 2, 3, 4, 1, 2, 3, 4, 5, 6, 7, 7, 6, 3, 1, 2, 4, 4, 9, 5, 10, 3, 8, 1, 2, 7, 1, 3, 5, 10, 1, 4, 2, 5, 10, 9, 5, 5, 1, 2, 5, 6, 7, 2, 1, 3, 5, 8, 3, 5, 6, 9, 1, 2, 3, 4, 5, 6, 7, 7, 1, 2, 3, 4, 6, 7, 1, 2, 3, 4, 5, 7, 9, 1, 2, 3, 4, 6, 8, 4, 1, 4, 7, 2, 9, 10], \"Freq\": [0.8457056879997253, 0.15423908829689026, 0.999281108379364, 0.9998216032981873, 0.9995442628860474, 0.9998335838317871, 0.9996618032455444, 0.181556835770607, 0.5025486946105957, 0.00013874127762392163, 8.324476948473603e-05, 0.13427381217479706, 0.093469999730587, 0.0009156924788840115, 0.08703240752220154, 0.9995641708374023, 0.9999033808708191, 0.9999973177909851, 0.9999104142189026, 0.9998151659965515, 0.9999415874481201, 0.9997844099998474, 0.999600887298584, 0.6823412775993347, 0.31760695576667786, 0.9999639391899109, 0.9999514222145081, 0.9998534321784973, 0.24971936643123627, 0.4228394031524658, 0.17839501798152924, 0.056453410536050797, 0.09259257465600967, 0.3592150807380676, 0.6407762765884399, 0.999807596206665, 0.9998067021369934, 0.9999523758888245, 0.9996910691261292, 0.9996897578239441, 0.9998444318771362, 0.8423609137535095, 0.15751104056835175, 0.9991985559463501, 0.0006899351137690246, 0.9997898936271667, 0.9994915723800659, 0.37310856580734253, 0.6268269419670105, 0.9998680949211121, 0.9990856647491455, 0.9997191429138184, 0.8155271410942078, 0.1840667575597763, 0.6486954689025879, 0.35121622681617737, 0.9993994832038879, 0.9997389912605286, 0.3565711975097656, 0.18756882846355438, 0.00011901575635420159, 0.4555923044681549, 0.9994279742240906, 0.7952945828437805, 0.20375989377498627, 0.0009160034824162722, 0.0012229407439008355, 0.15998941659927368, 0.3625659644603729, 0.0044601368717849255, 0.010718715377151966, 7.193769124569371e-05, 0.4609767198562622, 0.9992055892944336, 0.9997249841690063, 0.9993035197257996, 0.0023556561209261417, 0.3641451895236969, 0.6332789063453674, 0.785615086555481, 0.2142874002456665, 0.9995986223220825, 0.9993797540664673, 0.9997861385345459, 0.24402645230293274, 0.5982934236526489, 0.1576026827096939, 5.4252213885774836e-05, 0.9994919896125793, 0.2681151330471039, 0.5423656105995178, 0.1894988864660263, 0.9998886585235596, 0.1696857213973999, 0.830170214176178, 8.003367111086845e-05, 0.9999140501022339, 0.999837338924408, 0.19241857528686523, 0.22007302939891815, 0.48673510551452637, 0.005176560487598181, 0.09555875509977341, 0.999977707862854, 0.2648921012878418, 0.5435758829116821, 0.18177427351474762, 0.00974611658602953, 0.9997116327285767, 0.17352664470672607, 0.24801817536354065, 0.5784515738487244, 0.9997632503509521, 0.9996110200881958, 0.9999107122421265, 0.25247254967689514, 0.0003817629476543516, 0.7469828128814697, 0.7386666536331177, 0.26130881905555725, 0.9998638033866882, 0.9996379613876343, 0.9995884895324707, 0.999801516532898, 0.9999440312385559, 0.9997888803482056, 0.3116869330406189, 0.6863757967948914, 0.0018608174286782742, 0.9997804164886475, 0.9992491006851196, 0.9995874166488647, 0.9997872710227966, 0.9997822046279907, 0.9996839761734009, 0.9992048144340515, 0.9994303584098816, 0.9996680617332458, 0.9995895624160767, 0.2497175931930542, 0.10176499933004379, 0.6484875082969666, 0.9996029138565063, 0.9995498061180115, 0.30093061923980713, 0.2625066339969635, 0.43651580810546875, 0.9997663497924805, 0.9996340274810791, 0.9998669028282166, 0.9997971057891846, 0.9996276497840881, 0.0012395292287692428, 0.012057239189743996, 5.634223634842783e-05, 0.25962501764297485, 0.7262514233589172, 0.0007887913379818201, 0.9995709657669067, 8.309109398396686e-05, 0.9999182224273682, 0.9995750188827515, 0.9999302625656128, 0.9996272325515747, 0.9998724460601807, 0.9997194409370422, 0.999714195728302, 0.9997794032096863, 0.322764128446579, 0.6770043969154358, 0.9995092749595642, 0.8194464445114136, 0.00033367800642736256, 0.18018612265586853, 0.9998207688331604, 0.9996567368507385, 0.999578058719635, 0.9996970891952515, 0.9994546175003052, 0.99986332654953, 0.9999142289161682, 0.9997483491897583, 0.9997316002845764, 0.9998546838760376, 0.9998119473457336, 0.9996620416641235, 0.2731281518936157, 0.7268156409263611, 0.9997225403785706, 0.9992302060127258, 0.9999763369560242, 0.9998634457588196, 0.9996525645256042, 0.26347991824150085, 0.5509245991706848, 0.058190666139125824, 0.1273707002401352, 0.9998174905776978, 0.9996134042739868, 0.9998583793640137, 0.9997608661651611, 0.999703049659729, 0.9995294213294983, 0.9997254014015198, 0.9998267889022827, 0.9997746348381042, 0.9998601078987122, 0.46709784865379333, 0.00025491969427093863, 0.5326122045516968, 0.9994312524795532, 0.999611496925354, 0.9997708201408386, 0.9997698664665222, 0.9995558261871338, 0.7952643036842346, 0.2045920044183731, 0.999984860420227, 0.9997055530548096, 0.999751627445221, 0.9999822974205017, 0.9998798370361328, 0.9999789595603943, 0.9995384216308594, 0.9998580813407898, 0.9997593760490417, 0.9991191625595093, 0.1513688862323761, 0.27569809556007385, 0.5729213953018188, 0.9998330473899841, 0.9997454285621643, 0.9996281266212463, 0.3281777501106262, 0.22581180930137634, 0.05958382412791252, 0.37850508093833923, 0.007700781803578138, 0.000155571338837035, 0.9997215867042542, 0.9996695518493652, 0.25939956307411194, 0.28027480840682983, 0.46009621024131775, 0.0001401023764628917, 7.005118823144585e-05, 0.8372915387153625, 0.16085851192474365, 0.0018126211361959577, 0.999730110168457, 0.999723494052887, 0.9998903870582581, 0.9980629086494446, 0.0016643628478050232, 0.9996011257171631, 0.7335349917411804, 0.263931006193161, 0.0013392657274380326, 0.0010522801894694567, 0.36953455209732056, 0.00041767116636037827, 0.00010441779159009457, 0.00010441779159009457, 0.6296392679214478, 0.9996866583824158, 0.9998029470443726, 0.9995522499084473, 0.9995436668395996, 0.9997085332870483, 0.9998531937599182, 0.38934117555618286, 0.6106249690055847, 0.337978333234787, 0.6618908047676086, 0.9999017715454102, 0.9997239112854004, 0.15821096301078796, 0.21682237088680267, 0.08245470374822617, 0.0457727275788784, 0.3877125382423401, 0.10892952233552933, 0.9992963075637817, 0.9998078346252441, 0.9998524785041809, 0.9998111724853516, 0.9996969103813171, 0.999279797077179, 0.999567985534668, 0.9994164705276489, 0.9998319149017334, 0.7110133767127991, 0.28893712162971497, 0.9998332262039185, 0.28819340467453003, 0.7116366624832153, 0.3503333628177643, 0.6496456265449524, 0.9991616606712341, 0.9998103380203247, 0.9998053312301636, 0.999792218208313, 0.9997158050537109, 0.033984895795583725, 0.31754639744758606, 0.6483681201934814, 0.9998507499694824, 0.9996839165687561, 0.9996312260627747, 0.999622106552124, 0.9747345447540283, 0.025139138102531433, 0.9996744990348816, 0.0002269923861604184, 0.35657382011413574, 0.18766267597675323, 0.20219267904758453, 0.2535385191440582, 0.9997751712799072, 0.9988990426063538, 0.9996964335441589, 0.266808420419693, 0.7331045866012573, 0.9995996356010437, 0.2736496925354004, 0.6202048063278198, 0.106051966547966, 0.06584580987691879, 0.1786482036113739, 0.11611837148666382, 0.2957732081413269, 0.13802748918533325, 0.05074627324938774, 0.13559973239898682, 0.01918528974056244, 0.9997609257698059, 0.09659293293952942, 0.6341041922569275, 0.2537390887737274, 0.015260059386491776, 0.000203018105821684, 0.9996611475944519, 0.3108445405960083, 0.15107260644435883, 0.2527645230293274, 0.14511923491954803, 0.09788452833890915, 0.0422966368496418, 0.9996669292449951, 0.9997916221618652, 0.9999717473983765, 0.9998909831047058, 0.23083633184432983, 0.7690668702125549, 0.9999651908874512, 0.9998177886009216, 0.9998539686203003, 0.9999172687530518, 0.6899444460868835, 0.00033848462044261396, 0.3097134232521057, 0.9996507167816162, 0.2670569121837616, 0.731842041015625, 0.0010611532488837838, 0.32846230268478394, 0.6713010668754578, 0.9991366267204285, 0.0018267693230882287, 0.7636765837669373, 0.23452238738536835, 0.7444317936897278, 0.25537940859794617, 0.9996218085289001, 0.3199380934238434, 0.18290472030639648, 0.49689117074012756, 0.9996925592422485, 0.1925901472568512, 0.18265114724636078, 0.11428076773881912, 0.31083235144615173, 0.066884845495224, 0.06861797720193863, 0.06416134536266327, 0.34237605333328247, 0.2518365979194641, 0.4055761396884918, 0.000152167136548087, 0.9998689293861389, 0.9999046921730042, 0.00019748882914427668, 0.9997871518135071, 0.9999334812164307, 0.999250054359436, 0.285312294960022, 0.7143850326538086, 0.04932309687137604, 0.9506137371063232, 0.370449960231781, 0.629444420337677, 0.795620858669281, 0.20420747995376587, 0.9998918771743774, 0.9998072981834412, 0.31271952390670776, 0.2364816665649414, 0.4506579339504242, 0.9999862909317017, 0.0006060448358766735, 0.1828235238790512, 0.16193518042564392, 0.20007559657096863, 0.0023029702715575695, 0.452271044254303, 0.9996153712272644, 0.29672932624816895, 0.7031985521316528, 0.9996203780174255, 0.3650839030742645, 0.6348437070846558, 0.8614818453788757, 0.13849137723445892, 0.9998787045478821, 0.9998302459716797, 0.3534852862358093, 0.07235649973154068, 0.5739712715148926, 0.9997762441635132, 0.886096715927124, 0.11380548030138016, 0.9998906254768372, 0.5913578867912292, 0.17903053760528564, 0.2295139878988266, 0.9998700618743896, 0.9999417066574097, 0.9997546672821045, 0.002485603326931596, 0.9970376491546631, 0.9998820424079895, 0.9998010993003845, 0.999883234500885, 0.9996095895767212, 0.9998494386672974, 0.9998761415481567, 0.9977993965148926, 0.0016969377174973488, 0.999498188495636, 0.028853431344032288, 9.983886411646381e-05, 0.24979683756828308, 0.7211360931396484, 0.9994374513626099, 0.21438707411289215, 0.16768774390220642, 0.4750668704509735, 0.1428859829902649, 0.9995905160903931, 0.99972003698349, 0.9996804594993591, 0.9997658729553223, 0.263711154460907, 0.5590390563011169, 0.010634089820086956, 0.1665055751800537, 7.136972999433056e-05, 0.9995452761650085, 0.6745439171791077, 0.16738061606884003, 0.005335257388651371, 0.001150741707533598, 0.15158407390117645, 0.8548789620399475, 0.14507757127285004, 0.058672863990068436, 0.27365022897720337, 0.1996050775051117, 0.4679747521877289, 0.9993235468864441, 0.9995286464691162, 0.9996857047080994, 0.9928064346313477, 0.00698612816631794, 0.999870777130127, 0.9995610117912292, 0.9997024536132812, 0.2470998615026474, 0.7528523206710815, 0.0013231865596026182, 0.30157628655433655, 0.6970987915992737, 0.999860405921936, 0.999823808670044, 0.9996848702430725, 0.24380825459957123, 0.7560667395591736, 0.3600795865058899, 0.6397861242294312, 0.9997763633728027, 0.9995819926261902, 0.9995988607406616, 0.37967953085899353, 0.6201803088188171, 0.9998787045478821, 0.9998371601104736, 0.9997250437736511, 0.9999268054962158, 0.9995273947715759, 0.9996743202209473, 0.9998390078544617, 0.014973748475313187, 0.9849399328231812, 0.999749481678009, 0.9999826550483704, 0.9998749494552612, 0.002260613488033414, 0.6804446578025818, 0.18350861966609955, 0.13377512991428375, 0.9998559951782227, 0.4539259076118469, 0.5459396839141846, 0.2639803886413574, 0.10286327451467514, 0.031318508088588715, 0.6017678380012512, 0.9993252158164978, 0.9998291730880737, 0.9996742606163025, 0.9997665286064148, 0.9999222755432129, 0.20081454515457153, 0.7043247222900391, 0.09479991346597672, 0.9997209310531616, 0.9998521208763123, 0.21659307181835175, 0.2440994381904602, 0.07874682545661926, 0.17301510274410248, 0.28752022981643677, 0.9992663860321045, 0.9997768998146057, 0.00020942311675753444, 0.7368552684783936, 0.2628783583641052, 0.9997701048851013, 0.9998425245285034, 0.9997124671936035, 0.9999181032180786, 0.9998761415481567, 0.9998809099197388, 0.9945601224899292, 0.005325623322278261, 0.9996655583381653, 0.9998780488967896, 0.29363200068473816, 0.10174315422773361, 0.3740672767162323, 0.08157536387443542, 7.862685743020847e-05, 0.14821162819862366, 0.0006683282554149628, 0.9997018575668335, 0.9997373223304749, 0.1282169073820114, 0.09964143484830856, 0.14585915207862854, 0.626175582408905, 0.9995364546775818, 0.9997055530548096, 0.9995075464248657, 0.9996020197868347, 0.9999074339866638, 0.9994733929634094, 0.9999075531959534, 0.9997519850730896, 0.24749965965747833, 0.23460905253887177, 0.5177540183067322, 0.999634861946106, 0.3200222849845886, 0.28423210978507996, 0.39559951424598694, 0.7982301712036133, 0.20163924992084503, 0.9996061325073242, 0.999541163444519, 0.9998638033866882, 0.9996781349182129, 0.9997822642326355, 0.29572638869285583, 0.21873360872268677, 0.1398891657590866, 0.012543434277176857, 0.2749401330947876, 0.0581776425242424, 0.9997574090957642, 0.9998599290847778, 0.9999208450317383, 0.9997873902320862, 0.6818894743919373, 0.3180373013019562, 0.9998486042022705, 0.1834084838628769, 0.2812080979347229, 0.06766526401042938, 0.36613211035728455, 0.009485465474426746, 0.09208092093467712, 0.9998197555541992, 0.9995673298835754, 0.9858899712562561, 0.013934032991528511, 0.9995297789573669, 0.9998173713684082, 0.9998946785926819, 0.9997550249099731, 0.9997200965881348, 0.9997172355651855, 0.9997496008872986, 0.9999842643737793, 0.9998623728752136, 0.9999500513076782, 0.3662060499191284, 0.26135218143463135, 0.00663768732920289, 0.36572036147117615, 0.1892157942056656, 0.35323768854141235, 0.1705845296382904, 0.1628650724887848, 0.01685156300663948, 0.028464125469326973, 0.07878522574901581, 0.9996788501739502, 0.9997581243515015, 0.999735414981842, 0.637491762638092, 0.24921360611915588, 0.11326945573091507, 0.9996230006217957, 0.9997876286506653, 0.9995603561401367, 0.999607264995575, 0.2275318205356598, 0.7724106311798096, 0.33299392461776733, 0.25911712646484375, 0.4078676998615265, 0.7496120929718018, 0.25018981099128723, 0.00015955982962623239, 0.9997631907463074, 0.286779522895813, 0.7131294012069702, 0.9996922016143799, 0.9995817542076111, 0.9999722242355347, 0.9997905492782593, 0.999778151512146, 0.9999892115592957, 0.6178531646728516, 0.07584547996520996, 0.005202397704124451, 0.10007770359516144, 0.20097683370113373, 0.9996612668037415, 0.3914737105369568, 0.5866515636444092, 0.015458488836884499, 0.006399274803698063, 0.2714051306247711, 0.7285221815109253, 0.9999637603759766, 0.999869167804718, 0.3316407799720764, 0.24950222671031952, 0.09163758903741837, 0.12790414690971375, 0.04754830524325371, 0.05747304856777191, 0.09427176415920258, 0.9997810125350952, 0.6242866516113281, 0.21636329591274261, 3.5946719435742125e-05, 0.15910017490386963, 0.0001797335862647742, 7.189343887148425e-05, 0.3086000680923462, 0.1223420798778534, 0.20115861296653748, 0.12645936012268066, 0.17571969330310822, 0.06568044424057007, 0.9997397065162659, 0.20441074669361115, 0.6097744703292847, 0.040570951998233795, 0.004437447991222143, 0.14078812301158905, 0.9998567700386047, 0.9996497631072998, 0.9999634623527527, 0.33606913685798645, 0.6638316512107849, 0.9999294877052307, 0.9994022846221924, 0.9997798800468445], \"Term\": [\"\\n\\n\", \"\\n\\n\", \"\\n\\n\\n\", \"\\n \", \"\\n  \", \"\\n    \", \"\\n        \", \" \", \" \", \" \", \" \", \" \", \" \", \" \", \" \", \"  \", \" _issue\", \"$\", \"+\", \"<\", \"=\", \"=_=\", \"=_>\", \">\", \">\", \"`\", \"`_`\", \"actual\", \"actually\", \"actually\", \"actually\", \"actually\", \"actually\", \"add\", \"add\", \"additional\", \"address\", \"agree\", \"ah\", \"annotation\", \"anymore\", \"api\", \"api\", \"app\", \"app\", \"approach\", \"appropriate\", \"argument\", \"argument\", \"array\", \"article\", \"ask\", \"assert\", \"assert\", \"avoid\", \"avoid\", \"avoid_extra\", \"backslashe_escape\", \"base\", \"base\", \"base\", \"base\", \"beginning\", \"bit\", \"bit\", \"bit\", \"block\", \"block\", \"block\", \"block\", \"block\", \"block\", \"block\", \"bool\", \"branch\", \"buffer\", \"bug\", \"bug\", \"bug\", \"build\", \"build\", \"button\", \"byte\", \"cache\", \"call\", \"call\", \"call\", \"call\", \"callback\", \"case\", \"case\", \"case\", \"catch\", \"cause\", \"cause\", \"change\", \"change\", \"character\", \"check\", \"check\", \"check\", \"check\", \"check\", \"class\", \"clear\", \"clear\", \"clear\", \"clear\", \"close\", \"code\", \"code\", \"code\", \"color\", \"column\", \"come\", \"command\", \"command\", \"command\", \"comment\", \"comment\", \"commit\", \"compile\", \"compiler\", \"complete\", \"component\", \"condition\", \"config\", \"config\", \"config\", \"configuration\", \"connection\", \"const\", \"constant\", \"constructor\", \"container\", \"continue\", \"convention\", \"convert\", \"cool\", \"correct\", \"correct\", \"correct\", \"correctly\", \"cover\", \"create\", \"create\", \"create\", \"database\", \"date\", \"datum\", \"debug\", \"declare\", \"default\", \"default\", \"default\", \"default\", \"default\", \"default\", \"default_value\", \"define\", \"define\", \"definition\", \"delete\", \"depend\", \"dependency\", \"describe\", \"description\", \"detail\", \"detect\", \"detect\", \"dictionary\", \"different\", \"different\", \"different\", \"directory\", \"discuss\", \"display\", \"doc\", \"docker\", \"docs\", \"document\", \"documentation\", \"double\", \"drop\", \"edit\", \"enable\", \"end\", \"end\", \"entry\", \"equal\", \"error\", \"event\", \"exactly\", \"example\", \"example\", \"example\", \"example\", \"exception\", \"execute\", \"expect\", \"explain\", \"export\", \"expose\", \"extend\", \"extension\", \"extra\", \"extract\", \"fail\", \"fail\", \"fail\", \"failure\", \"false\", \"feature\", \"feel\", \"feel_like\", \"field\", \"field\", \"file\", \"filter\", \"final\", \"find\", \"fine\", \"fix\", \"folder\", \"follow\", \"forget\", \"free\", \"function\", \"function\", \"function\", \"functionality\", \"generate\", \"generic\", \"get\", \"get\", \"get\", \"get\", \"get\", \"get\", \"github\", \"global\", \"go\", \"go\", \"go\", \"go\", \"go\", \"good\", \"good\", \"good\", \"good_catch\", \"good_point\", \"great\", \"group\", \"group\", \"guarantee\", \"handle\", \"handle\", \"handle\", \"handle\", \"happen\", \"happen\", \"happen\", \"happen\", \"happen\", \"hash\", \"header\", \"helper\", \"hmm\", \"host\", \"image\", \"implement\", \"implement\", \"implementation\", \"implementation\", \"import\", \"important\", \"include\", \"include\", \"include\", \"include\", \"include\", \"include\", \"incorrect\", \"indent\", \"indentation\", \"index\", \"info\", \"initial\", \"initialize\", \"inline\", \"input\", \"inside\", \"inside\", \"install\", \"instance\", \"instance\", \"instead\", \"instead\", \"int\", \"intend\", \"interface\", \"internal\", \"introduce\", \"issue\", \"issue\", \"issue\", \"item\", \"java\", \"job\", \"keep\", \"key\", \"key\", \"kind\", \"kind\", \"know\", \"know\", \"know\", \"know\", \"label\", \"lambda\", \"language\", \"later\", \"later\", \"layout\", \"leave\", \"leave\", \"leave\", \"let\", \"let\", \"let\", \"let\", \"let\", \"let\", \"let\", \"let\", \"let_know\", \"level\", \"level\", \"level\", \"level\", \"library\", \"library\", \"like\", \"like\", \"like\", \"like\", \"like\", \"like\", \"likely\", \"limit\", \"line\", \"line_long\", \"link\", \"link\", \"list\", \"load\", \"local\", \"log\", \"logic\", \"logic\", \"logic\", \"longer\", \"look\", \"look\", \"look\", \"loop\", \"loop\", \"lose\", \"make\", \"make\", \"make\", \"make_sense\", \"make_sense\", \"master\", \"match\", \"match\", \"match\", \"matter\", \"maybe\", \"maybe\", \"maybe\", \"maybe\", \"maybe\", \"maybe\", \"maybe\", \"mean\", \"mean\", \"mean\", \"mean\", \"merge\", \"message\", \"method\", \"method\", \"miss\", \"mock\", \"model\", \"model\", \"module\", \"module\", \"move\", \"move\", \"multiple\", \"multiple\", \"name\", \"namespace\", \"necessary\", \"necessary\", \"necessary\", \"need\", \"new\", \"new\", \"new\", \"new\", \"new\", \"new\", \"newline\", \"nice\", \"nice\", \"nil\", \"nit\", \"nit\", \"node\", \"node\", \"non\", \"not\", \"note\", \"note\", \"note\", \"notice\", \"null\", \"null\", \"number\", \"object\", \"object\", \"object\", \"oh\", \"ok\", \"okay\", \"operation\", \"operation\", \"option\", \"optional\", \"order\", \"override\", \"package\", \"page\", \"param\", \"param\", \"paramet\", \"parameter\", \"parameter\", \"parameter\", \"parameter\", \"parse\", \"pass\", \"pass\", \"pass\", \"pass\", \"pattern\", \"people\", \"plan\", \"plugin\", \"point\", \"point\", \"point\", \"point\", \"point\", \"pointer\", \"possible\", \"possible\", \"possible\", \"possible\", \"possible\", \"pr\", \"pr\", \"prefer\", \"prefer\", \"prefer\", \"prefer\", \"prefer_double\", \"prefix\", \"present\", \"pretty\", \"pretty\", \"previous\", \"print\", \"private\", \"probably\", \"probably\", \"problem\", \"problem\", \"problem\", \"process\", \"project\", \"prop\", \"property\", \"property\", \"provide\", \"provide\", \"public\", \"pull\", \"purpose\", \"push\", \"push\", \"python\", \"query\", \"quote_string\", \"read\", \"record\", \"redundant\", \"refactor\", \"refactore\", \"refactore\", \"release\", \"remove\", \"rename\", \"replace\", \"replace\", \"replace\", \"replace\", \"repo\", \"request\", \"request\", \"require\", \"require\", \"require\", \"require\", \"requirement\", \"resolve\", \"resource\", \"response\", \"result\", \"return\", \"return\", \"return\", \"revert\", \"review\", \"right\", \"right\", \"right\", \"right\", \"right\", \"row\", \"rule\", \"run\", \"run\", \"run\", \"s\", \"save\", \"scope\", \"script\", \"section\", \"see\", \"send\", \"send\", \"sentence\", \"service\", \"set\", \"set\", \"set\", \"set\", \"set\", \"set\", \"set\", \"setup\", \"share\", \"similar\", \"similar\", \"similar\", \"similar\", \"single_quote\", \"size\", \"skip\", \"solution\", \"sorry\", \"sound_good\", \"space\", \"spec\", \"specific\", \"specific\", \"specific\", \"standard\", \"start\", \"start\", \"start\", \"statement\", \"statement\", \"static\", \"status\", \"step\", \"stop\", \"store\", \"string\", \"string\", \"string\", \"string\", \"string\", \"string\", \"stuff\", \"style\", \"suggestion\", \"suggestion_\\n    \", \"support\", \"support\", \"suppose\", \"sure\", \"sure\", \"sure\", \"sure\", \"sure\", \"sure\", \"switch\", \"syntax\", \"system\", \"system\", \"tab\", \"table\", \"tag\", \"target\", \"task\", \"tell\", \"template\", \"test\", \"testing\", \"thank\", \"thing\", \"thing\", \"thing\", \"thing\", \"think\", \"think\", \"think\", \"think\", \"think\", \"think\", \"think\", \"thought\", \"thread\", \"throw\", \"time\", \"time\", \"time\", \"title\", \"todo\", \"token\", \"trail_whitespace\", \"true\", \"true\", \"try\", \"try\", \"try\", \"type\", \"type\", \"type\", \"typo\", \"understand\", \"understand\", \"unit_test\", \"unused\", \"update\", \"url\", \"usage\", \"use\", \"user\", \"user\", \"user\", \"user\", \"user\", \"validation\", \"value\", \"value\", \"value\", \"value\", \"variable\", \"variable\", \"version\", \"wait\", \"want\", \"want\", \"want\", \"want\", \"want\", \"want\", \"want\", \"warning\", \"way\", \"way\", \"way\", \"way\", \"way\", \"way\", \"well\", \"well\", \"well\", \"well\", \"well\", \"well\", \"whitespace\", \"work\", \"work\", \"work\", \"work\", \"work\", \"would\", \"wrap\", \"write\", \"yeah\", \"yeah\", \"yes\", \"|\", \"\\ud83d\\udc4d\"]}, \"R\": 30, \"lambda.step\": 0.01, \"plot.opts\": {\"xlab\": \"PC1\", \"ylab\": \"PC2\"}, \"topic.order\": [10, 9, 5, 7, 3, 8, 1, 4, 6, 2]};\n",
       "\n",
       "function LDAvis_load_lib(url, callback){\n",
       "  var s = document.createElement('script');\n",
       "  s.src = url;\n",
       "  s.async = true;\n",
       "  s.onreadystatechange = s.onload = callback;\n",
       "  s.onerror = function(){console.warn(\"failed to load library \" + url);};\n",
       "  document.getElementsByTagName(\"head\")[0].appendChild(s);\n",
       "}\n",
       "\n",
       "if(typeof(LDAvis) !== \"undefined\"){\n",
       "   // already loaded: just create the visualization\n",
       "   !function(LDAvis){\n",
       "       new LDAvis(\"#\" + \"ldavis_el56325127842582888034587735\", ldavis_el56325127842582888034587735_data);\n",
       "   }(LDAvis);\n",
       "}else if(typeof define === \"function\" && define.amd){\n",
       "   // require.js is available: use it to load d3/LDAvis\n",
       "   require.config({paths: {d3: \"https://cdnjs.cloudflare.com/ajax/libs/d3/3.5.5/d3.min\"}});\n",
       "   require([\"d3\"], function(d3){\n",
       "      window.d3 = d3;\n",
       "      LDAvis_load_lib(\"https://cdn.rawgit.com/bmabey/pyLDAvis/files/ldavis.v1.0.0.js\", function(){\n",
       "        new LDAvis(\"#\" + \"ldavis_el56325127842582888034587735\", ldavis_el56325127842582888034587735_data);\n",
       "      });\n",
       "    });\n",
       "}else{\n",
       "    // require.js not available: dynamically load d3 & LDAvis\n",
       "    LDAvis_load_lib(\"https://cdnjs.cloudflare.com/ajax/libs/d3/3.5.5/d3.min.js\", function(){\n",
       "         LDAvis_load_lib(\"https://cdn.rawgit.com/bmabey/pyLDAvis/files/ldavis.v1.0.0.js\", function(){\n",
       "                 new LDAvis(\"#\" + \"ldavis_el56325127842582888034587735\", ldavis_el56325127842582888034587735_data);\n",
       "            })\n",
       "         });\n",
       "}\n",
       "</script>"
      ],
      "text/plain": [
       "PreparedData(topic_coordinates=              x         y  topics  cluster       Freq\n",
       "topic                                                \n",
       "9     -0.201604 -0.048218       1        1  15.792552\n",
       "8     -0.185395  0.098524       2        1  14.679768\n",
       "4     -0.129298 -0.221521       3        1  13.071930\n",
       "6     -0.095396  0.160486       4        1  10.541486\n",
       "2     -0.071361 -0.170070       5        1  10.304208\n",
       "7      0.015556  0.088509       6        1   8.301058\n",
       "0     -0.039525  0.044364       7        1   7.514357\n",
       "3      0.275651 -0.213086       8        1   7.446121\n",
       "5      0.138916  0.222380       9        1   6.827866\n",
       "1      0.292456  0.038632      10        1   5.520663, topic_info=      Category           Freq               Term          Total  loglift  \\\n",
       "term                                                                       \n",
       "9      Default  403827.000000                  $  403827.000000  30.0000   \n",
       "67     Default   99178.000000               need   99178.000000  29.0000   \n",
       "92     Default   91314.000000                use   91314.000000  28.0000   \n",
       "1      Default   74968.000000             change   74968.000000  27.0000   \n",
       "134    Default   79506.000000                add   79506.000000  26.0000   \n",
       "48     Default   51136.000000               line   51136.000000  25.0000   \n",
       "120    Default   45989.000000               file   45989.000000  24.0000   \n",
       "121    Default   58333.000000             remove   58333.000000  23.0000   \n",
       "35     Default   56616.000000               test   56616.000000  22.0000   \n",
       "131    Default   36901.000000                fix   36901.000000  21.0000   \n",
       "147    Default   40508.000000             method   40508.000000  20.0000   \n",
       "176    Default   29470.000000             update   29470.000000  19.0000   \n",
       "626    Default   29603.000000               find   29603.000000  18.0000   \n",
       "14     Default   38731.000000            comment   38731.000000  17.0000   \n",
       "341    Default   22373.000000              thank   22373.000000  16.0000   \n",
       "379    Default   45307.000000               code   45307.000000  15.0000   \n",
       "534    Default   22015.000000              error   22015.000000  14.0000   \n",
       "8      Default   34926.000000            instead   34926.000000  13.0000   \n",
       "62     Default   23580.000000              class   23580.000000  12.0000   \n",
       "44     Default   37537.000000           function   37537.000000  11.0000   \n",
       "22     Default   72076.000000                      72076.000000  10.0000   \n",
       "480    Default   17421.000000                  =   17421.000000   9.0000   \n",
       "73     Default   18057.000000            version   18057.000000   8.0000   \n",
       "226    Default   17289.000000                  `   17289.000000   7.0000   \n",
       "510    Default   15403.000000              space   15403.000000   6.0000   \n",
       "173    Default   21043.000000                 pr   21043.000000   5.0000   \n",
       "369    Default   21515.000000               good   21515.000000   4.0000   \n",
       "16     Default   29514.000000             return   29514.000000   3.0000   \n",
       "162    Default   17748.000000            default   17748.000000   2.0000   \n",
       "30     Default   89902.000000              think   89902.000000   1.0000   \n",
       "...        ...            ...                ...            ...      ...   \n",
       "1609   Topic10    4538.128906             forget    4539.092285   2.8965   \n",
       "63974  Topic10    4153.951172                  👍    4154.914551   2.8964   \n",
       "917    Topic10    4127.312012                 ah    4128.275391   2.8964   \n",
       "781    Topic10    4053.667725            anymore    4054.630859   2.8964   \n",
       "65     Topic10    3645.900391               typo    3646.863525   2.8964   \n",
       "473    Topic10    3210.009521                doc    3210.972656   2.8964   \n",
       "330    Topic10    3135.899414       quote_string    3136.862549   2.8964   \n",
       "2215   Topic10    3094.465332             folder    3095.428711   2.8964   \n",
       "331    Topic10    2816.342773       single_quote    2817.305908   2.8963   \n",
       "40     Topic10    3057.104248          correctly    3058.214355   2.8963   \n",
       "202    Topic10    2636.652832           database    2637.616211   2.8963   \n",
       "327    Topic10    2158.333496        avoid_extra    2159.296631   2.8962   \n",
       "823    Topic10    2082.791260            compile    2083.754395   2.8962   \n",
       "328    Topic10    1986.555664  backslashe_escape    1987.518799   2.8962   \n",
       "703    Topic10    1954.804932   trail_whitespace    1955.768066   2.8962   \n",
       "329    Topic10    1805.258667      prefer_double    1806.221802   2.8961   \n",
       "3756   Topic10    1702.737793           compiler    1703.701050   2.8961   \n",
       "168    Topic10    1664.703613             layout    1665.666870   2.8961   \n",
       "2975   Topic10    1664.196533             buffer    1665.159790   2.8961   \n",
       "1950   Topic10    1609.196411            initial    1610.159668   2.8961   \n",
       "1279   Topic10    1606.825684         dictionary    1607.788940   2.8961   \n",
       "874    Topic10    1509.901001          beginning    1510.864258   2.8960   \n",
       "637    Topic10    1472.334473               free    1473.297729   2.8960   \n",
       "5263   Topic10    1467.837769             docker    1468.801025   2.8960   \n",
       "482    Topic10    3226.397949                bug    5094.122070   2.4400   \n",
       "702    Topic10    2537.629639             detect    3748.867676   2.5064   \n",
       "363    Topic10    2784.733643               push    4490.629395   2.4188   \n",
       "11     Topic10    7316.501953              right   25448.644531   1.6501   \n",
       "137    Topic10    4421.054199                  >   13919.720703   1.7497   \n",
       "173    Topic10    3053.309570                 pr   21043.914062   0.9663   \n",
       "\n",
       "       logprob  \n",
       "term            \n",
       "9      30.0000  \n",
       "67     29.0000  \n",
       "92     28.0000  \n",
       "1      27.0000  \n",
       "134    26.0000  \n",
       "48     25.0000  \n",
       "120    24.0000  \n",
       "121    23.0000  \n",
       "35     22.0000  \n",
       "131    21.0000  \n",
       "147    20.0000  \n",
       "176    19.0000  \n",
       "626    18.0000  \n",
       "14     17.0000  \n",
       "341    16.0000  \n",
       "379    15.0000  \n",
       "534    14.0000  \n",
       "8      13.0000  \n",
       "62     12.0000  \n",
       "44     11.0000  \n",
       "22     10.0000  \n",
       "480     9.0000  \n",
       "73      8.0000  \n",
       "226     7.0000  \n",
       "510     6.0000  \n",
       "173     5.0000  \n",
       "369     4.0000  \n",
       "16      3.0000  \n",
       "162     2.0000  \n",
       "30      1.0000  \n",
       "...        ...  \n",
       "1609   -4.4691  \n",
       "63974  -4.5575  \n",
       "917    -4.5640  \n",
       "781    -4.5820  \n",
       "65     -4.6880  \n",
       "473    -4.8153  \n",
       "330    -4.8387  \n",
       "2215   -4.8520  \n",
       "331    -4.9462  \n",
       "40     -4.8641  \n",
       "202    -5.0121  \n",
       "327    -5.2123  \n",
       "823    -5.2479  \n",
       "328    -5.2952  \n",
       "703    -5.3113  \n",
       "329    -5.3909  \n",
       "3756   -5.4494  \n",
       "168    -5.4719  \n",
       "2975   -5.4723  \n",
       "1950   -5.5059  \n",
       "1279   -5.5073  \n",
       "874    -5.5696  \n",
       "637    -5.5947  \n",
       "5263   -5.5978  \n",
       "482    -4.8102  \n",
       "702    -5.0504  \n",
       "363    -4.9574  \n",
       "11     -3.9915  \n",
       "137    -4.4952  \n",
       "173    -4.8654  \n",
       "\n",
       "[505 rows x 6 columns], token_table=       Topic      Freq        Term\n",
       "term                              \n",
       "394        1  0.845706        \\n\\n\n",
       "394        8  0.154239        \\n\\n\n",
       "6515       3  0.999281      \\n\\n\\n\n",
       "1983       5  0.999822         \\n \n",
       "1138       4  0.999544        \\n  \n",
       "1404       8  0.999834      \\n    \n",
       "1817       8  0.999662  \\n        \n",
       "22         1  0.181557            \n",
       "22         2  0.502549            \n",
       "22         3  0.000139            \n",
       "22         4  0.000083            \n",
       "22         5  0.134274            \n",
       "22         6  0.093470            \n",
       "22         8  0.000916            \n",
       "22         9  0.087032            \n",
       "954        8  0.999564            \n",
       "13174      8  0.999903      _issue\n",
       "9          3  0.999997           $\n",
       "1542       8  0.999910           +\n",
       "863        8  0.999815           <\n",
       "480        8  0.999942           =\n",
       "504        8  0.999784         =_=\n",
       "1993       9  0.999601         =_>\n",
       "137        8  0.682341           >\n",
       "137       10  0.317607           >\n",
       "226        8  0.999964           `\n",
       "775        8  0.999951         `_`\n",
       "1793       3  0.999853      actual\n",
       "371        1  0.249719    actually\n",
       "371        2  0.422839    actually\n",
       "...      ...       ...         ...\n",
       "177        5  0.047548        want\n",
       "177        6  0.057473        want\n",
       "177        7  0.094272        want\n",
       "949        7  0.999781     warning\n",
       "149        1  0.624287         way\n",
       "149        2  0.216363         way\n",
       "149        3  0.000036         way\n",
       "149        4  0.159100         way\n",
       "149        6  0.000180         way\n",
       "149        7  0.000072         way\n",
       "88         1  0.308600        well\n",
       "88         2  0.122342        well\n",
       "88         3  0.201159        well\n",
       "88         4  0.126459        well\n",
       "88         5  0.175720        well\n",
       "88         7  0.065680        well\n",
       "61         9  0.999740  whitespace\n",
       "55         1  0.204411        work\n",
       "55         2  0.609774        work\n",
       "55         3  0.040571        work\n",
       "55         4  0.004437        work\n",
       "55         6  0.140788        work\n",
       "154        8  0.999857       would\n",
       "228        4  0.999650        wrap\n",
       "378        1  0.999963       write\n",
       "358        4  0.336069        yeah\n",
       "358        7  0.663832        yeah\n",
       "129        2  0.999929         yes\n",
       "2496       9  0.999402           |\n",
       "63974     10  0.999780           👍\n",
       "\n",
       "[711 rows x 3 columns], R=30, lambda_step=0.01, plot_opts={'xlab': 'PC1', 'ylab': 'PC2'}, topic_order=[10, 9, 5, 7, 3, 8, 1, 4, 6, 2])"
      ]
     },
     "execution_count": 30,
     "metadata": {},
     "output_type": "execute_result"
    }
   ],
   "source": [
    "from gensim.models.wrappers import LdaMallet\n",
    "from gensim.corpora import Dictionary\n",
    "import pyLDAvis.gensim\n",
    "\n",
    "pyLDAvis.enable_notebook()\n",
    "pyLDAvis.gensim.prepare(ldamodel, corpus, dictionary)"
   ]
  },
  {
   "cell_type": "code",
   "execution_count": null,
   "metadata": {},
   "outputs": [],
   "source": []
  },
  {
   "cell_type": "code",
   "execution_count": null,
   "metadata": {},
   "outputs": [],
   "source": []
  },
  {
   "cell_type": "code",
   "execution_count": null,
   "metadata": {},
   "outputs": [],
   "source": []
  }
 ],
 "metadata": {
  "kernelspec": {
   "display_name": "dataset_env",
   "language": "python",
   "name": "dataset_env"
  },
  "language_info": {
   "codemirror_mode": {
    "name": "ipython",
    "version": 3
   },
   "file_extension": ".py",
   "mimetype": "text/x-python",
   "name": "python",
   "nbconvert_exporter": "python",
   "pygments_lexer": "ipython3",
   "version": "3.6.4"
  }
 },
 "nbformat": 4,
 "nbformat_minor": 2
}
